{
  "cells": [
    {
      "cell_type": "markdown",
      "id": "e473eaad-50d7-4400-910a-41ee2a2c3ac3",
      "metadata": {
        "id": "e473eaad-50d7-4400-910a-41ee2a2c3ac3"
      },
      "source": [
        "# Install Required Packages"
      ]
    },
    {
      "cell_type": "code",
      "execution_count": null,
      "id": "3fea6bba-7513-4383-adcf-df2cd3ba3018",
      "metadata": {
        "id": "3fea6bba-7513-4383-adcf-df2cd3ba3018",
        "outputId": "7f6eb328-758a-40c5-c577-629904af7db8"
      },
      "outputs": [
        {
          "name": "stdout",
          "output_type": "stream",
          "text": [
            "Collecting pyathena\n",
            "  Using cached pyathena-3.2.0-py3-none-any.whl.metadata (85 kB)\n",
            "Requirement already satisfied: boto3>=1.26.4 in /opt/conda/lib/python3.10/site-packages (from pyathena) (1.33.9)\n",
            "Requirement already satisfied: botocore>=1.29.4 in /opt/conda/lib/python3.10/site-packages (from pyathena) (1.33.9)\n",
            "Requirement already satisfied: tenacity>=4.1.0 in /opt/conda/lib/python3.10/site-packages (from pyathena) (8.0.1)\n",
            "Requirement already satisfied: fsspec in /opt/conda/lib/python3.10/site-packages (from pyathena) (2022.7.1)\n",
            "Requirement already satisfied: jmespath<2.0.0,>=0.7.1 in /opt/conda/lib/python3.10/site-packages (from boto3>=1.26.4->pyathena) (0.10.0)\n",
            "Requirement already satisfied: s3transfer<0.9.0,>=0.8.2 in /opt/conda/lib/python3.10/site-packages (from boto3>=1.26.4->pyathena) (0.8.2)\n",
            "Requirement already satisfied: python-dateutil<3.0.0,>=2.1 in /opt/conda/lib/python3.10/site-packages (from botocore>=1.29.4->pyathena) (2.8.2)\n",
            "Collecting urllib3<2.1,>=1.25.4 (from botocore>=1.29.4->pyathena)\n",
            "  Using cached urllib3-2.0.7-py3-none-any.whl.metadata (6.6 kB)\n",
            "Requirement already satisfied: six>=1.5 in /opt/conda/lib/python3.10/site-packages (from python-dateutil<3.0.0,>=2.1->botocore>=1.29.4->pyathena) (1.16.0)\n",
            "Using cached pyathena-3.2.0-py3-none-any.whl (79 kB)\n",
            "Using cached urllib3-2.0.7-py3-none-any.whl (124 kB)\n",
            "Installing collected packages: urllib3, pyathena\n",
            "  Attempting uninstall: urllib3\n",
            "    Found existing installation: urllib3 2.1.0\n",
            "    Uninstalling urllib3-2.1.0:\n",
            "      Successfully uninstalled urllib3-2.1.0\n",
            "\u001b[31mERROR: pip's dependency resolver does not currently take into account all the packages that are installed. This behaviour is the source of the following dependency conflicts.\n",
            "distributed 2022.7.0 requires tornado<6.2,>=6.0.3, but you have tornado 6.4 which is incompatible.\n",
            "sagemaker 2.199.0 requires urllib3<1.27, but you have urllib3 2.0.7 which is incompatible.\u001b[0m\u001b[31m\n",
            "\u001b[0mSuccessfully installed pyathena-3.2.0 urllib3-2.0.7\n",
            "\u001b[33mWARNING: Running pip as the 'root' user can result in broken permissions and conflicting behaviour with the system package manager. It is recommended to use a virtual environment instead: https://pip.pypa.io/warnings/venv\u001b[0m\u001b[33m\n",
            "\u001b[0m\n",
            "\u001b[1m[\u001b[0m\u001b[34;49mnotice\u001b[0m\u001b[1;39;49m]\u001b[0m\u001b[39;49m A new release of pip is available: \u001b[0m\u001b[31;49m23.3.1\u001b[0m\u001b[39;49m -> \u001b[0m\u001b[32;49m23.3.2\u001b[0m\n",
            "\u001b[1m[\u001b[0m\u001b[34;49mnotice\u001b[0m\u001b[1;39;49m]\u001b[0m\u001b[39;49m To update, run: \u001b[0m\u001b[32;49mpip install --upgrade pip\u001b[0m\n",
            "Requirement already satisfied: sagemaker in /opt/conda/lib/python3.10/site-packages (2.199.0)\n",
            "Collecting sagemaker\n",
            "  Using cached sagemaker-2.206.0-py3-none-any.whl.metadata (13 kB)\n",
            "Requirement already satisfied: attrs<24,>=23.1.0 in /opt/conda/lib/python3.10/site-packages (from sagemaker) (23.1.0)\n",
            "Requirement already satisfied: boto3<2.0,>=1.33.3 in /opt/conda/lib/python3.10/site-packages (from sagemaker) (1.33.9)\n",
            "Requirement already satisfied: cloudpickle==2.2.1 in /opt/conda/lib/python3.10/site-packages (from sagemaker) (2.2.1)\n",
            "Requirement already satisfied: google-pasta in /opt/conda/lib/python3.10/site-packages (from sagemaker) (0.2.0)\n",
            "Requirement already satisfied: numpy<2.0,>=1.9.0 in /opt/conda/lib/python3.10/site-packages (from sagemaker) (1.26.2)\n",
            "Requirement already satisfied: protobuf<5.0,>=3.12 in /opt/conda/lib/python3.10/site-packages (from sagemaker) (4.25.1)\n",
            "Requirement already satisfied: smdebug-rulesconfig==1.0.1 in /opt/conda/lib/python3.10/site-packages (from sagemaker) (1.0.1)\n",
            "Requirement already satisfied: importlib-metadata<7.0,>=1.4.0 in /opt/conda/lib/python3.10/site-packages (from sagemaker) (4.11.3)\n",
            "Requirement already satisfied: packaging>=20.0 in /opt/conda/lib/python3.10/site-packages (from sagemaker) (21.3)\n",
            "Requirement already satisfied: pandas in /opt/conda/lib/python3.10/site-packages (from sagemaker) (2.1.3)\n",
            "Requirement already satisfied: pathos in /opt/conda/lib/python3.10/site-packages (from sagemaker) (0.3.1)\n",
            "Requirement already satisfied: schema in /opt/conda/lib/python3.10/site-packages (from sagemaker) (0.7.5)\n",
            "Requirement already satisfied: PyYAML~=6.0 in /opt/conda/lib/python3.10/site-packages/PyYAML-6.0-py3.10-linux-x86_64.egg (from sagemaker) (6.0)\n",
            "Requirement already satisfied: jsonschema in /opt/conda/lib/python3.10/site-packages (from sagemaker) (4.20.0)\n",
            "Requirement already satisfied: platformdirs in /opt/conda/lib/python3.10/site-packages (from sagemaker) (2.5.2)\n",
            "Requirement already satisfied: tblib<3,>=1.7.0 in /opt/conda/lib/python3.10/site-packages (from sagemaker) (1.7.0)\n",
            "Collecting urllib3<1.27 (from sagemaker)\n",
            "  Using cached urllib3-1.26.18-py2.py3-none-any.whl.metadata (48 kB)\n",
            "Requirement already satisfied: requests in /opt/conda/lib/python3.10/site-packages (from sagemaker) (2.31.0)\n",
            "Requirement already satisfied: docker in /opt/conda/lib/python3.10/site-packages (from sagemaker) (6.1.3)\n",
            "Requirement already satisfied: tqdm in /opt/conda/lib/python3.10/site-packages (from sagemaker) (4.64.1)\n",
            "Requirement already satisfied: psutil in /opt/conda/lib/python3.10/site-packages (from sagemaker) (5.9.0)\n",
            "Requirement already satisfied: botocore<1.34.0,>=1.33.9 in /opt/conda/lib/python3.10/site-packages (from boto3<2.0,>=1.33.3->sagemaker) (1.33.9)\n",
            "Requirement already satisfied: jmespath<2.0.0,>=0.7.1 in /opt/conda/lib/python3.10/site-packages (from boto3<2.0,>=1.33.3->sagemaker) (0.10.0)\n",
            "Requirement already satisfied: s3transfer<0.9.0,>=0.8.2 in /opt/conda/lib/python3.10/site-packages (from boto3<2.0,>=1.33.3->sagemaker) (0.8.2)\n",
            "Requirement already satisfied: zipp>=0.5 in /opt/conda/lib/python3.10/site-packages (from importlib-metadata<7.0,>=1.4.0->sagemaker) (3.8.0)\n",
            "Requirement already satisfied: pyparsing!=3.0.5,>=2.0.2 in /opt/conda/lib/python3.10/site-packages (from packaging>=20.0->sagemaker) (3.0.9)\n",
            "Requirement already satisfied: websocket-client>=0.32.0 in /opt/conda/lib/python3.10/site-packages (from docker->sagemaker) (0.58.0)\n",
            "Requirement already satisfied: charset-normalizer<4,>=2 in /opt/conda/lib/python3.10/site-packages (from requests->sagemaker) (2.0.4)\n",
            "Requirement already satisfied: idna<4,>=2.5 in /opt/conda/lib/python3.10/site-packages (from requests->sagemaker) (3.3)\n",
            "Requirement already satisfied: certifi>=2017.4.17 in /opt/conda/lib/python3.10/site-packages (from requests->sagemaker) (2023.11.17)\n",
            "Requirement already satisfied: six in /opt/conda/lib/python3.10/site-packages (from google-pasta->sagemaker) (1.16.0)\n",
            "Requirement already satisfied: jsonschema-specifications>=2023.03.6 in /opt/conda/lib/python3.10/site-packages (from jsonschema->sagemaker) (2023.11.2)\n",
            "Requirement already satisfied: referencing>=0.28.4 in /opt/conda/lib/python3.10/site-packages (from jsonschema->sagemaker) (0.31.1)\n",
            "Requirement already satisfied: rpds-py>=0.7.1 in /opt/conda/lib/python3.10/site-packages (from jsonschema->sagemaker) (0.13.2)\n",
            "Requirement already satisfied: python-dateutil>=2.8.2 in /opt/conda/lib/python3.10/site-packages (from pandas->sagemaker) (2.8.2)\n",
            "Requirement already satisfied: pytz>=2020.1 in /opt/conda/lib/python3.10/site-packages (from pandas->sagemaker) (2022.1)\n",
            "Requirement already satisfied: tzdata>=2022.1 in /opt/conda/lib/python3.10/site-packages (from pandas->sagemaker) (2023.3)\n",
            "Requirement already satisfied: ppft>=1.7.6.7 in /opt/conda/lib/python3.10/site-packages (from pathos->sagemaker) (1.7.6.7)\n",
            "Requirement already satisfied: dill>=0.3.7 in /opt/conda/lib/python3.10/site-packages (from pathos->sagemaker) (0.3.7)\n",
            "Requirement already satisfied: pox>=0.3.3 in /opt/conda/lib/python3.10/site-packages (from pathos->sagemaker) (0.3.3)\n",
            "Requirement already satisfied: multiprocess>=0.70.15 in /opt/conda/lib/python3.10/site-packages (from pathos->sagemaker) (0.70.15)\n",
            "Requirement already satisfied: contextlib2>=0.5.5 in /opt/conda/lib/python3.10/site-packages (from schema->sagemaker) (21.6.0)\n",
            "Using cached sagemaker-2.206.0-py3-none-any.whl (1.4 MB)\n",
            "Using cached urllib3-1.26.18-py2.py3-none-any.whl (143 kB)\n",
            "Installing collected packages: urllib3, sagemaker\n",
            "  Attempting uninstall: urllib3\n",
            "    Found existing installation: urllib3 2.0.7\n",
            "    Uninstalling urllib3-2.0.7:\n",
            "      Successfully uninstalled urllib3-2.0.7\n",
            "  Attempting uninstall: sagemaker\n",
            "    Found existing installation: sagemaker 2.199.0\n",
            "    Uninstalling sagemaker-2.199.0:\n",
            "      Successfully uninstalled sagemaker-2.199.0\n",
            "\u001b[31mERROR: pip's dependency resolver does not currently take into account all the packages that are installed. This behaviour is the source of the following dependency conflicts.\n",
            "distributed 2022.7.0 requires tornado<6.2,>=6.0.3, but you have tornado 6.4 which is incompatible.\u001b[0m\u001b[31m\n",
            "\u001b[0mSuccessfully installed sagemaker-2.206.0 urllib3-1.26.18\n",
            "\u001b[33mWARNING: Running pip as the 'root' user can result in broken permissions and conflicting behaviour with the system package manager. It is recommended to use a virtual environment instead: https://pip.pypa.io/warnings/venv\u001b[0m\u001b[33m\n",
            "\u001b[0m\n",
            "\u001b[1m[\u001b[0m\u001b[34;49mnotice\u001b[0m\u001b[1;39;49m]\u001b[0m\u001b[39;49m A new release of pip is available: \u001b[0m\u001b[31;49m23.3.1\u001b[0m\u001b[39;49m -> \u001b[0m\u001b[32;49m23.3.2\u001b[0m\n",
            "\u001b[1m[\u001b[0m\u001b[34;49mnotice\u001b[0m\u001b[1;39;49m]\u001b[0m\u001b[39;49m To update, run: \u001b[0m\u001b[32;49mpip install --upgrade pip\u001b[0m\n"
          ]
        }
      ],
      "source": [
        "!pip install pyathena\n",
        "!pip3 install -U sagemaker"
      ]
    },
    {
      "cell_type": "markdown",
      "id": "4d48bbf4-d38f-423a-b014-bf2599a7de15",
      "metadata": {
        "id": "4d48bbf4-d38f-423a-b014-bf2599a7de15"
      },
      "source": [
        "# Import Required Libraries"
      ]
    },
    {
      "cell_type": "code",
      "execution_count": null,
      "id": "56617f56-6a2c-4d60-9b60-8d75ab10d4e8",
      "metadata": {
        "id": "56617f56-6a2c-4d60-9b60-8d75ab10d4e8"
      },
      "outputs": [],
      "source": [
        "import boto3 # aws sdk for python\n",
        "#import cv2 # computer vision\n",
        "import sagemaker # machine learning platform\n",
        "#import matplotlib.pyplot as plt # plotting functions\n",
        "import numpy as np # array manipulation\n",
        "import os # operating system interfaces\n",
        "import pandas as pd # python data analysis\n",
        "#import random # pseudo-random numbers\n",
        "import re # regular expressions\n",
        "#import seaborn as sns # statistical graphics\n",
        "#import time # time access and conversions\n",
        "#from PIL import Image # python imaging library module\n",
        "from pyathena import connect # athena client\n",
        "#from sagemaker import get_execution_role # get execution role for notebook\n",
        "#from sagemaker.feature_store.feature_group import FeatureGroup # featuregroup definition\n",
        "#from sagemaker.session import Session # class to initialize sagemaker session\n",
        "from time import gmtime, strftime, sleep # time-related functions"
      ]
    },
    {
      "cell_type": "markdown",
      "id": "37e50ffb-1208-4663-bba0-a203890c410a",
      "metadata": {
        "id": "37e50ffb-1208-4663-bba0-a203890c410a"
      },
      "source": [
        "# Perform Prerequisites"
      ]
    },
    {
      "cell_type": "code",
      "execution_count": null,
      "id": "7735c026-0094-4bde-a03e-50336d86837a",
      "metadata": {
        "id": "7735c026-0094-4bde-a03e-50336d86837a",
        "outputId": "d98b5510-0bde-4287-e961-e30d9b1ba219"
      },
      "outputs": [
        {
          "name": "stdout",
          "output_type": "stream",
          "text": [
            "Data directory location: s3://sagemaker-us-east-1-414754026690/safety/data\n",
            "FeatureStore directory location: s3://sagemaker-us-east-1-414754026690/safety-featurestore\n",
            "\n",
            "Execution Role: arn:aws:iam::414754026690:role/LabRole\n"
          ]
        }
      ],
      "source": [
        "# establish sagemaker session, provide permissions\n",
        "sess = sagemaker.Session()\n",
        "bucket = sess.default_bucket()\n",
        "role = sagemaker.get_execution_role()\n",
        "region = boto3.Session().region_name\n",
        "\n",
        "# create a boto3 session for the sagemaker service\n",
        "sm = boto3.Session().client(service_name='sagemaker', region_name=region)\n",
        "\n",
        "# client to make featurestore record calls\n",
        "featurestore_runtime = boto3.Session().client(\n",
        "    service_name=\"sagemaker-featurestore-runtime\", region_name=region\n",
        ")\n",
        "\n",
        "# create boto3 session to establish feature store session\n",
        "boto_session = boto3.Session(region_name=region)\n",
        "\n",
        "# create featurestore session\n",
        "feature_store_session = sagemaker.Session(\n",
        "    boto_session=boto_session,\n",
        "    sagemaker_client=sm,\n",
        "    sagemaker_featurestore_runtime_client=featurestore_runtime,\n",
        ")\n",
        "\n",
        "# define prefixes for the safety data directory and featurestore\n",
        "prefix_data = 'safety/data'\n",
        "prefix_featurestore = 'safety-featurestore'\n",
        "\n",
        "# print s3 locations\n",
        "print('Data directory location:', f\"s3://{bucket}/{prefix_data}\")\n",
        "print('FeatureStore directory location:', f\"s3://{bucket}/{prefix_featurestore}\\n\")\n",
        "\n",
        "# print current IAM role for notebook instance\n",
        "role = sagemaker.get_execution_role()\n",
        "print('Execution Role:', role)"
      ]
    },
    {
      "cell_type": "markdown",
      "id": "2a2ade40-dec1-4ea6-96fd-7fc4c2835c6e",
      "metadata": {
        "id": "2a2ade40-dec1-4ea6-96fd-7fc4c2835c6e"
      },
      "source": [
        "# Data Preparation"
      ]
    },
    {
      "cell_type": "markdown",
      "id": "2b5549b1-2b6b-4b81-8162-a3c1b97ee351",
      "metadata": {
        "id": "2b5549b1-2b6b-4b81-8162-a3c1b97ee351"
      },
      "source": [
        "## Query Catalog Data"
      ]
    },
    {
      "cell_type": "code",
      "execution_count": null,
      "id": "ad88c943-d9f4-41ab-bcab-95e8783d92d8",
      "metadata": {
        "id": "ad88c943-d9f4-41ab-bcab-95e8783d92d8",
        "outputId": "6f989d65-4dc8-4328-c995-3181781b5be2"
      },
      "outputs": [
        {
          "name": "stdout",
          "output_type": "stream",
          "text": [
            "SQL query SELECT statement:\n",
            " SELECT * FROM safetydb.catalog_csv\n",
            "    WHERE img_filename like '%.jpg'\n",
            "    AND label_filename like '%.txt'\n",
            "    LIMIT 25000\n"
          ]
        }
      ],
      "source": [
        "# define database name\n",
        "database_name = 'safetydb'\n",
        "\n",
        "# define table name\n",
        "table_name_csv = 'catalog_csv'\n",
        "\n",
        "# set s3 temporary staging directory\n",
        "s3_staging_dir = \"s3://{0}/athena/staging\".format(bucket)\n",
        "\n",
        "# define connection parameters\n",
        "conn = connect(region_name=region, s3_staging_dir=s3_staging_dir)\n",
        "\n",
        "# define sql query statement\n",
        "statement = \"\"\"SELECT * FROM {}.{}\n",
        "    WHERE img_filename like '%.jpg'\n",
        "    AND label_filename like '%.txt'\n",
        "    LIMIT 25000\"\"\".format(\n",
        "    database_name, table_name_csv\n",
        ")\n",
        "\n",
        "# print sql statement for review before executing\n",
        "print('SQL query SELECT statement:\\n', statement)"
      ]
    },
    {
      "cell_type": "code",
      "execution_count": null,
      "id": "e47b28e4-95d6-4be9-bb4d-fff2cb4e5d3e",
      "metadata": {
        "tags": [],
        "id": "e47b28e4-95d6-4be9-bb4d-fff2cb4e5d3e",
        "outputId": "4992160d-06ff-4c6f-9bc9-3b61c786070c"
      },
      "outputs": [
        {
          "name": "stderr",
          "output_type": "stream",
          "text": [
            "/tmp/ipykernel_17/3145676702.py:2: UserWarning: pandas only supports SQLAlchemy connectable (engine/connection) or database string URI or sqlite3 DBAPI2 connection. Other DBAPI2 objects are not tested. Please consider using SQLAlchemy.\n",
            "  df_catalog_query = pd.read_sql(statement, conn)\n"
          ]
        },
        {
          "data": {
            "text/html": [
              "<div>\n",
              "<style scoped>\n",
              "    .dataframe tbody tr th:only-of-type {\n",
              "        vertical-align: middle;\n",
              "    }\n",
              "\n",
              "    .dataframe tbody tr th {\n",
              "        vertical-align: top;\n",
              "    }\n",
              "\n",
              "    .dataframe thead th {\n",
              "        text-align: right;\n",
              "    }\n",
              "</style>\n",
              "<table border=\"1\" class=\"dataframe\">\n",
              "  <thead>\n",
              "    <tr style=\"text-align: right;\">\n",
              "      <th></th>\n",
              "      <th>sample_id</th>\n",
              "      <th>img_filename</th>\n",
              "      <th>label_filename</th>\n",
              "    </tr>\n",
              "  </thead>\n",
              "  <tbody>\n",
              "    <tr>\n",
              "      <th>0</th>\n",
              "      <td>000001</td>\n",
              "      <td>000001.jpg</td>\n",
              "      <td>000001.txt</td>\n",
              "    </tr>\n",
              "    <tr>\n",
              "      <th>1</th>\n",
              "      <td>000002</td>\n",
              "      <td>000002.jpg</td>\n",
              "      <td>000002.txt</td>\n",
              "    </tr>\n",
              "    <tr>\n",
              "      <th>2</th>\n",
              "      <td>000003</td>\n",
              "      <td>000003.jpg</td>\n",
              "      <td>000003.txt</td>\n",
              "    </tr>\n",
              "    <tr>\n",
              "      <th>3</th>\n",
              "      <td>000004</td>\n",
              "      <td>000004.jpg</td>\n",
              "      <td>000004.txt</td>\n",
              "    </tr>\n",
              "    <tr>\n",
              "      <th>4</th>\n",
              "      <td>000005</td>\n",
              "      <td>000005.jpg</td>\n",
              "      <td>000005.txt</td>\n",
              "    </tr>\n",
              "    <tr>\n",
              "      <th>5</th>\n",
              "      <td>000006</td>\n",
              "      <td>000006.jpg</td>\n",
              "      <td>000006.txt</td>\n",
              "    </tr>\n",
              "    <tr>\n",
              "      <th>6</th>\n",
              "      <td>000007</td>\n",
              "      <td>000007.jpg</td>\n",
              "      <td>000007.txt</td>\n",
              "    </tr>\n",
              "    <tr>\n",
              "      <th>7</th>\n",
              "      <td>000008</td>\n",
              "      <td>000008.jpg</td>\n",
              "      <td>000008.txt</td>\n",
              "    </tr>\n",
              "    <tr>\n",
              "      <th>8</th>\n",
              "      <td>000009</td>\n",
              "      <td>000009.jpg</td>\n",
              "      <td>000009.txt</td>\n",
              "    </tr>\n",
              "    <tr>\n",
              "      <th>9</th>\n",
              "      <td>000010</td>\n",
              "      <td>000010.jpg</td>\n",
              "      <td>000010.txt</td>\n",
              "    </tr>\n",
              "  </tbody>\n",
              "</table>\n",
              "</div>"
            ],
            "text/plain": [
              "  sample_id img_filename label_filename\n",
              "0    000001   000001.jpg     000001.txt\n",
              "1    000002   000002.jpg     000002.txt\n",
              "2    000003   000003.jpg     000003.txt\n",
              "3    000004   000004.jpg     000004.txt\n",
              "4    000005   000005.jpg     000005.txt\n",
              "5    000006   000006.jpg     000006.txt\n",
              "6    000007   000007.jpg     000007.txt\n",
              "7    000008   000008.jpg     000008.txt\n",
              "8    000009   000009.jpg     000009.txt\n",
              "9    000010   000010.jpg     000010.txt"
            ]
          },
          "execution_count": 41,
          "metadata": {},
          "output_type": "execute_result"
        }
      ],
      "source": [
        "# execute sql query and display results\n",
        "df_catalog_query = pd.read_sql(statement, conn)\n",
        "df_catalog_query.head(10)"
      ]
    },
    {
      "cell_type": "markdown",
      "id": "a1c587ff-0c7a-42ec-b6b0-0d72d06af5cb",
      "metadata": {
        "id": "a1c587ff-0c7a-42ec-b6b0-0d72d06af5cb"
      },
      "source": [
        "## Combine with FeatureGroup Data"
      ]
    },
    {
      "cell_type": "markdown",
      "id": "478284af-660f-44ff-94af-ba2d21b854e8",
      "metadata": {
        "id": "478284af-660f-44ff-94af-ba2d21b854e8"
      },
      "source": [
        "### Get Batch Records from FeatureGroups"
      ]
    },
    {
      "cell_type": "code",
      "execution_count": null,
      "id": "8cf22ef3-75cd-4da7-a5cc-888d4b4bd04a",
      "metadata": {
        "tags": [],
        "id": "8cf22ef3-75cd-4da7-a5cc-888d4b4bd04a",
        "outputId": "51942597-edca-4fac-d41c-4669add6f82d"
      },
      "outputs": [
        {
          "name": "stdout",
          "output_type": "stream",
          "text": [
            "Image FeatureGroup Name: image-feature-group-03-04-13-19\n",
            "Label FeatureGroup Name: label-feature-group-03-04-13-19\n"
          ]
        }
      ],
      "source": [
        "# define featuregroup name patterns\n",
        "image_feature_group_name_pattern = 'image-feature-group-'\n",
        "label_feature_group_name_pattern = 'label-feature-group-'\n",
        "\n",
        "# obtain latest version of featuregroup names, if multiples exist\n",
        "all_image_feature_groups = sm.list_feature_groups(NameContains=image_feature_group_name, SortBy='CreationTime', SortOrder='Descending')\n",
        "all_label_feature_groups = sm.list_feature_groups(NameContains=label_feature_group_name, SortBy='CreationTime', SortOrder='Descending')\n",
        "image_feature_group_name = all_image_feature_groups['FeatureGroupSummaries'][0]['FeatureGroupName']\n",
        "label_feature_group_name = all_label_feature_groups['FeatureGroupSummaries'][0]['FeatureGroupName']\n",
        "\n",
        "# print featuregroup names\n",
        "print('Image FeatureGroup Name:', image_feature_group_name)\n",
        "print('Label FeatureGroup Name:', label_feature_group_name)"
      ]
    },
    {
      "cell_type": "code",
      "execution_count": null,
      "id": "685da3b7-c927-4b31-9040-6c89142c754c",
      "metadata": {
        "tags": [],
        "id": "685da3b7-c927-4b31-9040-6c89142c754c"
      },
      "outputs": [],
      "source": [
        "# specify record identifiers (i.e., sample ids) from previous catalog query\n",
        "record_identifiers_value = df_catalog_query['sample_id'].values.astype(str).tolist()\n",
        "\n",
        "# query image featuregroup by using record_id as primary key\n",
        "df_image_feature_group = featurestore_runtime.batch_get_record(\n",
        "    Identifiers=[\n",
        "        {\n",
        "            'FeatureGroupName': image_feature_group_name,\n",
        "            'RecordIdentifiersValueAsString':record_identifiers_value,\n",
        "        }\n",
        "    ]\n",
        ")\n",
        "\n",
        "# query label featuregroup by using record_id as primary key\n",
        "df_label_feature_group = featurestore_runtime.batch_get_record(\n",
        "    Identifiers=[\n",
        "        {\n",
        "            'FeatureGroupName': label_feature_group_name,\n",
        "            'RecordIdentifiersValueAsString': record_identifiers_value,\n",
        "        }\n",
        "    ]\n",
        ")"
      ]
    },
    {
      "cell_type": "markdown",
      "id": "545c9c87-50c0-4428-adcf-7ec7c769cfee",
      "metadata": {
        "id": "545c9c87-50c0-4428-adcf-7ec7c769cfee"
      },
      "source": [
        "### Display Image FeatureGroup Records"
      ]
    },
    {
      "cell_type": "code",
      "execution_count": null,
      "id": "8ae6fb9e-fb30-4ddd-b3fc-809fa2ed163e",
      "metadata": {
        "tags": [],
        "id": "8ae6fb9e-fb30-4ddd-b3fc-809fa2ed163e",
        "outputId": "33ebd00a-ee3b-4a8c-8173-5a9b8fc10b5f"
      },
      "outputs": [
        {
          "data": {
            "text/html": [
              "<div>\n",
              "<style scoped>\n",
              "    .dataframe tbody tr th:only-of-type {\n",
              "        vertical-align: middle;\n",
              "    }\n",
              "\n",
              "    .dataframe tbody tr th {\n",
              "        vertical-align: top;\n",
              "    }\n",
              "\n",
              "    .dataframe thead th {\n",
              "        text-align: right;\n",
              "    }\n",
              "</style>\n",
              "<table border=\"1\" class=\"dataframe\">\n",
              "  <thead>\n",
              "    <tr style=\"text-align: right;\">\n",
              "      <th></th>\n",
              "      <th>sample_id</th>\n",
              "      <th>img_format</th>\n",
              "      <th>img_mode</th>\n",
              "      <th>img_height</th>\n",
              "      <th>img_width</th>\n",
              "    </tr>\n",
              "  </thead>\n",
              "  <tbody>\n",
              "    <tr>\n",
              "      <th>0</th>\n",
              "      <td>000012</td>\n",
              "      <td>JPEG</td>\n",
              "      <td>RGB</td>\n",
              "      <td>640</td>\n",
              "      <td>640</td>\n",
              "    </tr>\n",
              "    <tr>\n",
              "      <th>1</th>\n",
              "      <td>000006</td>\n",
              "      <td>JPEG</td>\n",
              "      <td>RGB</td>\n",
              "      <td>640</td>\n",
              "      <td>640</td>\n",
              "    </tr>\n",
              "    <tr>\n",
              "      <th>2</th>\n",
              "      <td>000016</td>\n",
              "      <td>JPEG</td>\n",
              "      <td>RGB</td>\n",
              "      <td>640</td>\n",
              "      <td>640</td>\n",
              "    </tr>\n",
              "    <tr>\n",
              "      <th>3</th>\n",
              "      <td>000002</td>\n",
              "      <td>JPEG</td>\n",
              "      <td>RGB</td>\n",
              "      <td>640</td>\n",
              "      <td>640</td>\n",
              "    </tr>\n",
              "    <tr>\n",
              "      <th>4</th>\n",
              "      <td>000011</td>\n",
              "      <td>JPEG</td>\n",
              "      <td>RGB</td>\n",
              "      <td>640</td>\n",
              "      <td>640</td>\n",
              "    </tr>\n",
              "  </tbody>\n",
              "</table>\n",
              "</div>"
            ],
            "text/plain": [
              "  sample_id img_format img_mode img_height img_width\n",
              "0    000012       JPEG      RGB        640       640\n",
              "1    000006       JPEG      RGB        640       640\n",
              "2    000016       JPEG      RGB        640       640\n",
              "3    000002       JPEG      RGB        640       640\n",
              "4    000011       JPEG      RGB        640       640"
            ]
          },
          "execution_count": 90,
          "metadata": {},
          "output_type": "execute_result"
        }
      ],
      "source": [
        "# create list of image records and feature names, exclude eventtime\n",
        "image_records = [sample['Record'] for sample in df_image_feature_group['Records']]\n",
        "image_feature_names = [feature['FeatureName'] for feature in image_records[0] if feature['FeatureName'] != 'EventTime']\n",
        "\n",
        "# create list of image data\n",
        "image_data = [image_feature_names]\n",
        "\n",
        "# iterate through each record in image featuregroup\n",
        "for record in image_records:\n",
        "\n",
        "    # iterate through each feature in individual record\n",
        "    image_data.append([feature['ValueAsString'] for feature in record if feature['FeatureName'] != 'EventTime'])\n",
        "\n",
        "# create images dataframe\n",
        "df_images = pd.DataFrame(image_data[1:], columns=image_data[0])\n",
        "\n",
        "# display dataframe head\n",
        "df_images.head()"
      ]
    },
    {
      "cell_type": "markdown",
      "id": "0184067b-e7c1-45aa-8874-3b03c04c17fa",
      "metadata": {
        "id": "0184067b-e7c1-45aa-8874-3b03c04c17fa"
      },
      "source": [
        "### Display Label FeatureGroup Records"
      ]
    },
    {
      "cell_type": "code",
      "execution_count": null,
      "id": "c8ee1536-0dc1-45ab-8a2a-10c88a9840d7",
      "metadata": {
        "tags": [],
        "id": "c8ee1536-0dc1-45ab-8a2a-10c88a9840d7",
        "outputId": "30fbc13e-aa85-48d7-f239-6dae0996fb3f"
      },
      "outputs": [
        {
          "data": {
            "text/html": [
              "<div>\n",
              "<style scoped>\n",
              "    .dataframe tbody tr th:only-of-type {\n",
              "        vertical-align: middle;\n",
              "    }\n",
              "\n",
              "    .dataframe tbody tr th {\n",
              "        vertical-align: top;\n",
              "    }\n",
              "\n",
              "    .dataframe thead th {\n",
              "        text-align: right;\n",
              "    }\n",
              "</style>\n",
              "<table border=\"1\" class=\"dataframe\">\n",
              "  <thead>\n",
              "    <tr style=\"text-align: right;\">\n",
              "      <th></th>\n",
              "      <th>sample_id</th>\n",
              "      <th>count_helmet</th>\n",
              "      <th>count_vest</th>\n",
              "      <th>count_head</th>\n",
              "    </tr>\n",
              "  </thead>\n",
              "  <tbody>\n",
              "    <tr>\n",
              "      <th>0</th>\n",
              "      <td>000012</td>\n",
              "      <td>4</td>\n",
              "      <td>0</td>\n",
              "      <td>0</td>\n",
              "    </tr>\n",
              "    <tr>\n",
              "      <th>1</th>\n",
              "      <td>000006</td>\n",
              "      <td>0</td>\n",
              "      <td>0</td>\n",
              "      <td>5</td>\n",
              "    </tr>\n",
              "    <tr>\n",
              "      <th>2</th>\n",
              "      <td>000016</td>\n",
              "      <td>1</td>\n",
              "      <td>0</td>\n",
              "      <td>0</td>\n",
              "    </tr>\n",
              "    <tr>\n",
              "      <th>3</th>\n",
              "      <td>000011</td>\n",
              "      <td>13</td>\n",
              "      <td>0</td>\n",
              "      <td>0</td>\n",
              "    </tr>\n",
              "    <tr>\n",
              "      <th>4</th>\n",
              "      <td>000002</td>\n",
              "      <td>2</td>\n",
              "      <td>1</td>\n",
              "      <td>0</td>\n",
              "    </tr>\n",
              "  </tbody>\n",
              "</table>\n",
              "</div>"
            ],
            "text/plain": [
              "  sample_id count_helmet count_vest count_head\n",
              "0    000012            4          0          0\n",
              "1    000006            0          0          5\n",
              "2    000016            1          0          0\n",
              "3    000011           13          0          0\n",
              "4    000002            2          1          0"
            ]
          },
          "execution_count": 91,
          "metadata": {},
          "output_type": "execute_result"
        }
      ],
      "source": [
        "# create list of label records and feature names, exclude eventtime\n",
        "label_records = [sample['Record'] for sample in df_label_feature_group['Records']]\n",
        "label_feature_names = [feature['FeatureName'] for feature in label_records[0] if feature['FeatureName'] != 'EventTime']\n",
        "\n",
        "# create list of label data\n",
        "label_data = [label_feature_names]\n",
        "\n",
        "# iterate through each record in label featuregroup\n",
        "for record in label_records:\n",
        "\n",
        "    # iterate through each feature in individual record\n",
        "    label_data.append([feature['ValueAsString'] for feature in record if feature['FeatureName'] != 'EventTime'])\n",
        "\n",
        "# create labels dataframe\n",
        "df_labels = pd.DataFrame(label_data[1:], columns=label_data[0])\n",
        "\n",
        "# display dataframe head\n",
        "df_labels.head()"
      ]
    },
    {
      "cell_type": "markdown",
      "id": "c9dd85fc-f5cd-45f9-acbc-679479d822cb",
      "metadata": {
        "id": "c9dd85fc-f5cd-45f9-acbc-679479d822cb"
      },
      "source": [
        "### Join Records"
      ]
    },
    {
      "cell_type": "code",
      "execution_count": null,
      "id": "3731579c-abd3-4587-b200-1968c641fe73",
      "metadata": {
        "tags": [],
        "id": "3731579c-abd3-4587-b200-1968c641fe73",
        "outputId": "3ba7cf67-45a1-451d-cdf3-b7fea24d5be8"
      },
      "outputs": [
        {
          "data": {
            "text/html": [
              "<div>\n",
              "<style scoped>\n",
              "    .dataframe tbody tr th:only-of-type {\n",
              "        vertical-align: middle;\n",
              "    }\n",
              "\n",
              "    .dataframe tbody tr th {\n",
              "        vertical-align: top;\n",
              "    }\n",
              "\n",
              "    .dataframe thead th {\n",
              "        text-align: right;\n",
              "    }\n",
              "</style>\n",
              "<table border=\"1\" class=\"dataframe\">\n",
              "  <thead>\n",
              "    <tr style=\"text-align: right;\">\n",
              "      <th></th>\n",
              "      <th>sample_id</th>\n",
              "      <th>img_filename</th>\n",
              "      <th>label_filename</th>\n",
              "      <th>img_format</th>\n",
              "      <th>img_mode</th>\n",
              "      <th>img_height</th>\n",
              "      <th>img_width</th>\n",
              "      <th>count_helmet</th>\n",
              "      <th>count_vest</th>\n",
              "      <th>count_head</th>\n",
              "    </tr>\n",
              "  </thead>\n",
              "  <tbody>\n",
              "    <tr>\n",
              "      <th>0</th>\n",
              "      <td>000001</td>\n",
              "      <td>000001.jpg</td>\n",
              "      <td>000001.txt</td>\n",
              "      <td>JPEG</td>\n",
              "      <td>RGB</td>\n",
              "      <td>640</td>\n",
              "      <td>640</td>\n",
              "      <td>2</td>\n",
              "      <td>0</td>\n",
              "      <td>0</td>\n",
              "    </tr>\n",
              "    <tr>\n",
              "      <th>1</th>\n",
              "      <td>000002</td>\n",
              "      <td>000002.jpg</td>\n",
              "      <td>000002.txt</td>\n",
              "      <td>JPEG</td>\n",
              "      <td>RGB</td>\n",
              "      <td>640</td>\n",
              "      <td>640</td>\n",
              "      <td>2</td>\n",
              "      <td>1</td>\n",
              "      <td>0</td>\n",
              "    </tr>\n",
              "    <tr>\n",
              "      <th>2</th>\n",
              "      <td>000003</td>\n",
              "      <td>000003.jpg</td>\n",
              "      <td>000003.txt</td>\n",
              "      <td>JPEG</td>\n",
              "      <td>RGB</td>\n",
              "      <td>640</td>\n",
              "      <td>640</td>\n",
              "      <td>4</td>\n",
              "      <td>0</td>\n",
              "      <td>0</td>\n",
              "    </tr>\n",
              "    <tr>\n",
              "      <th>3</th>\n",
              "      <td>000004</td>\n",
              "      <td>000004.jpg</td>\n",
              "      <td>000004.txt</td>\n",
              "      <td>JPEG</td>\n",
              "      <td>RGB</td>\n",
              "      <td>640</td>\n",
              "      <td>640</td>\n",
              "      <td>0</td>\n",
              "      <td>0</td>\n",
              "      <td>5</td>\n",
              "    </tr>\n",
              "    <tr>\n",
              "      <th>4</th>\n",
              "      <td>000005</td>\n",
              "      <td>000005.jpg</td>\n",
              "      <td>000005.txt</td>\n",
              "      <td>JPEG</td>\n",
              "      <td>RGB</td>\n",
              "      <td>640</td>\n",
              "      <td>640</td>\n",
              "      <td>2</td>\n",
              "      <td>0</td>\n",
              "      <td>0</td>\n",
              "    </tr>\n",
              "  </tbody>\n",
              "</table>\n",
              "</div>"
            ],
            "text/plain": [
              "  sample_id img_filename label_filename img_format img_mode img_height  \\\n",
              "0    000001   000001.jpg     000001.txt       JPEG      RGB        640   \n",
              "1    000002   000002.jpg     000002.txt       JPEG      RGB        640   \n",
              "2    000003   000003.jpg     000003.txt       JPEG      RGB        640   \n",
              "3    000004   000004.jpg     000004.txt       JPEG      RGB        640   \n",
              "4    000005   000005.jpg     000005.txt       JPEG      RGB        640   \n",
              "\n",
              "  img_width count_helmet count_vest count_head  \n",
              "0       640            2          0          0  \n",
              "1       640            2          1          0  \n",
              "2       640            4          0          0  \n",
              "3       640            0          0          5  \n",
              "4       640            2          0          0  "
            ]
          },
          "execution_count": 92,
          "metadata": {},
          "output_type": "execute_result"
        }
      ],
      "source": [
        "# merge catalog query and images dataframes, then the resulting with labels dataframe\n",
        "df_combined = pd.merge(df_catalog_query, df_images, on='sample_id')\n",
        "df_combined = pd.merge(df_combined, df_labels, on='sample_id')\n",
        "\n",
        "# display resulting datafrmae\n",
        "df_combined.head()"
      ]
    },
    {
      "cell_type": "markdown",
      "id": "c6845240-c8a3-45a3-a639-e0d87def0700",
      "metadata": {
        "id": "c6845240-c8a3-45a3-a639-e0d87def0700"
      },
      "source": [
        "## Split Data"
      ]
    },
    {
      "cell_type": "code",
      "execution_count": null,
      "id": "734ba1fc-755d-4d31-b236-bc50d6c60a60",
      "metadata": {
        "tags": [],
        "id": "734ba1fc-755d-4d31-b236-bc50d6c60a60",
        "outputId": "cb69d79b-d847-4498-c4c9-e278c9c6318f"
      },
      "outputs": [
        {
          "name": "stdout",
          "output_type": "stream",
          "text": [
            "Data Splits:\n",
            "------------\n",
            "Train :   6 samples\n",
            "Val   :   1 samples\n",
            "Test  :   2 samples\n",
            "Batch :   11 samples\n"
          ]
        }
      ],
      "source": [
        "# use a copy of dataframe, can manipulate if desired for experimentation\n",
        "data = df_combined.copy()\n",
        "\n",
        "# data split in four sets - training, validation, test, and batch inference\n",
        "rand_split = np.random.rand(len(data))\n",
        "train_list = rand_split < 0.4\n",
        "val_list = (rand_split >= 0.4) & (rand_split < 0.5)\n",
        "test_list = (rand_split >= 0.5) & (rand_split < 0.6)\n",
        "batch_list = rand_split >= 0.6 # \"production\" data\n",
        "\n",
        "# print data splits\n",
        "print('Data Splits:')\n",
        "print('------------')\n",
        "print(f\"Train :   {sum(train_list)} samples\")\n",
        "print(f\"Val   :   {sum(val_list)} samples\")\n",
        "print(f\"Test  :   {sum(test_list)} samples\")\n",
        "print(f\"Batch :   {sum(batch_list)} samples\")"
      ]
    },
    {
      "cell_type": "markdown",
      "id": "c53b0b53-c0f5-48db-a095-d0ee8f2d175d",
      "metadata": {
        "id": "c53b0b53-c0f5-48db-a095-d0ee8f2d175d"
      },
      "source": [
        "## Create Split Datasets in S3"
      ]
    },
    {
      "cell_type": "code",
      "execution_count": null,
      "id": "7d6c1b29-3977-49d1-9c56-a8ab90267061",
      "metadata": {
        "tags": [],
        "id": "7d6c1b29-3977-49d1-9c56-a8ab90267061",
        "outputId": "6a128a96-0fe3-4994-ee88-3aa46dd02ea0"
      },
      "outputs": [
        {
          "name": "stdout",
          "output_type": "stream",
          "text": [
            "Images source directory location: s3://sagemaker-us-east-1-414754026690/safety/data/images/\n",
            "Labels source directory location: s3://sagemaker-us-east-1-414754026690/safety/data/labels/ \n",
            "\n",
            "Images split destination directory location: s3://sagemaker-us-east-1-414754026690/safety/data/split/images/\n",
            "Labels split destination directory location: s3://sagemaker-us-east-1-414754026690/safety/data/split/labels/\n"
          ]
        }
      ],
      "source": [
        "# define and print source s3 locations\n",
        "s3_images_source = f\"s3://{bucket}/{prefix_data}/images/\"\n",
        "s3_labels_source = f\"s3://{bucket}/{prefix_data}/labels/\"\n",
        "print('Images source directory location:', s3_images_source)\n",
        "print('Labels source directory location:', s3_labels_source, '\\n')\n",
        "\n",
        "# define and print destination s3 locations for data splits\n",
        "s3_images_dest = f\"s3://{bucket}/{prefix_data}/split/images/\"\n",
        "s3_labels_dest = f\"s3://{bucket}/{prefix_data}/split/labels/\"\n",
        "print('Images split destination directory location:', s3_images_dest)\n",
        "print('Labels split destination directory location:', s3_labels_dest)"
      ]
    },
    {
      "cell_type": "code",
      "execution_count": null,
      "id": "07b7727e-d8cc-4e70-89e4-79e0970740d9",
      "metadata": {
        "tags": [],
        "id": "07b7727e-d8cc-4e70-89e4-79e0970740d9"
      },
      "outputs": [],
      "source": [
        "# define function to copy files for respective data splits to corresponding s3 destinations\n",
        "# provide 'split_name' as either 'train', 'val', 'test', or 'batch'\n",
        "# provide 'split_list' as either 'train_list', 'val_list', 'test_list', or 'batch_list'\n",
        "def split_dataset(split_name, split_list):\n",
        "\n",
        "    # iterate through each sample in split\n",
        "    for index, sample in data[split_list].iterrows():\n",
        "\n",
        "        # source/destination variables for individual sample\n",
        "        cp_image_source = f\"{s3_images_source}{sample['img_filename']}\"\n",
        "        cp_image_dest = f\"{s3_images_dest}{split_name}/\"\n",
        "        cp_label_source = f\"{s3_labels_source}{sample['label_filename']}\"\n",
        "        cp_label_dest = f\"{s3_labels_dest}{split_name}/\"\n",
        "\n",
        "        # copy from source to destination\n",
        "        !aws s3 cp $cp_image_source $cp_image_dest\n",
        "        !aws s3 cp $cp_label_source $cp_label_dest"
      ]
    },
    {
      "cell_type": "code",
      "execution_count": null,
      "id": "27d9bd4b-5eee-42d5-b1b8-cf402f5e516f",
      "metadata": {
        "tags": [],
        "id": "27d9bd4b-5eee-42d5-b1b8-cf402f5e516f",
        "outputId": "cbbf0282-741f-42d9-cc9c-9c43c640c9f3"
      },
      "outputs": [
        {
          "name": "stdout",
          "output_type": "stream",
          "text": [
            "copy: s3://sagemaker-us-east-1-414754026690/safety/data/images/000002.jpg to s3://sagemaker-us-east-1-414754026690/safety/data/split/images/test/000002.jpg\n",
            "copy: s3://sagemaker-us-east-1-414754026690/safety/data/labels/000002.txt to s3://sagemaker-us-east-1-414754026690/safety/data/split/labels/test/000002.txt\n"
          ]
        }
      ],
      "source": [
        "# perform data copies\n",
        "print('Beginning TRAIN data split copies.')\n",
        "split_dataset(split_name='train', split_list=train_list)\n",
        "print('Completed TRAIN data split copies.')\n",
        "\n",
        "print('Beginning VAL data split copies.')\n",
        "split_dataset(split_name='val', split_list=val_list)\n",
        "print('Completed VAL data split copies.')\n",
        "\n",
        "print('Beginning TEST data split copies.')\n",
        "split_dataset(split_name='test', split_list=test_list)\n",
        "print('Completed TEST data split copies.')\n",
        "\n",
        "print('Beginning BATCH data split copies.')\n",
        "split_dataset(split_name='batch', split_list=batch_list)\n",
        "print('Completed BATCH data split copies.')"
      ]
    },
    {
      "cell_type": "markdown",
      "id": "acd7dfc0-e357-4eba-84a3-9b455b9d4c60",
      "metadata": {
        "tags": [],
        "id": "acd7dfc0-e357-4eba-84a3-9b455b9d4c60"
      },
      "source": [
        "# Training Job and Model Creation"
      ]
    },
    {
      "cell_type": "markdown",
      "id": "fcabb3d3-6df3-40f8-a13a-c2da729e3a60",
      "metadata": {
        "jp-MarkdownHeadingCollapsed": true,
        "tags": [],
        "id": "fcabb3d3-6df3-40f8-a13a-c2da729e3a60"
      },
      "source": [
        "# TESTING BELOW..."
      ]
    },
    {
      "cell_type": "code",
      "execution_count": null,
      "id": "9ef84749-7756-4895-9356-923cc2647b23",
      "metadata": {
        "tags": [],
        "id": "9ef84749-7756-4895-9356-923cc2647b23",
        "outputId": "851f014d-9fad-47b6-b3ef-38d576f9d2bd"
      },
      "outputs": [
        {
          "name": "stdout",
          "output_type": "stream",
          "text": [
            "Collecting ultralytics\n",
            "  Downloading ultralytics-8.1.9-py3-none-any.whl.metadata (40 kB)\n",
            "\u001b[2K     \u001b[90m━━━━━━━━━━━━━━━━━━━━━━━━━━━━━━━━━━━━━━━\u001b[0m \u001b[32m40.2/40.2 kB\u001b[0m \u001b[31m507.8 kB/s\u001b[0m eta \u001b[36m0:00:00\u001b[0ma \u001b[36m0:00:01\u001b[0m\n",
            "\u001b[?25hRequirement already satisfied: matplotlib>=3.3.0 in /opt/conda/lib/python3.10/site-packages (from ultralytics) (3.5.2)\n",
            "Requirement already satisfied: numpy>=1.22.2 in /opt/conda/lib/python3.10/site-packages (from ultralytics) (1.26.2)\n",
            "Collecting opencv-python>=4.6.0 (from ultralytics)\n",
            "  Using cached opencv_python-4.9.0.80-cp37-abi3-manylinux_2_17_x86_64.manylinux2014_x86_64.whl.metadata (20 kB)\n",
            "Requirement already satisfied: pillow>=7.1.2 in /opt/conda/lib/python3.10/site-packages (from ultralytics) (10.1.0)\n",
            "Requirement already satisfied: pyyaml>=5.3.1 in /opt/conda/lib/python3.10/site-packages/PyYAML-6.0-py3.10-linux-x86_64.egg (from ultralytics) (6.0)\n",
            "Requirement already satisfied: requests>=2.23.0 in /opt/conda/lib/python3.10/site-packages (from ultralytics) (2.31.0)\n",
            "Requirement already satisfied: scipy>=1.4.1 in /opt/conda/lib/python3.10/site-packages (from ultralytics) (1.11.4)\n",
            "Collecting torch>=1.8.0 (from ultralytics)\n",
            "  Downloading torch-2.2.0-cp310-cp310-manylinux1_x86_64.whl.metadata (25 kB)\n",
            "Collecting torchvision>=0.9.0 (from ultralytics)\n",
            "  Downloading torchvision-0.17.0-cp310-cp310-manylinux1_x86_64.whl.metadata (6.6 kB)\n",
            "Requirement already satisfied: tqdm>=4.64.0 in /opt/conda/lib/python3.10/site-packages (from ultralytics) (4.64.1)\n",
            "Requirement already satisfied: psutil in /opt/conda/lib/python3.10/site-packages (from ultralytics) (5.9.0)\n",
            "Collecting py-cpuinfo (from ultralytics)\n",
            "  Downloading py_cpuinfo-9.0.0-py3-none-any.whl (22 kB)\n",
            "Collecting thop>=0.1.1 (from ultralytics)\n",
            "  Downloading thop-0.1.1.post2209072238-py3-none-any.whl (15 kB)\n",
            "Requirement already satisfied: pandas>=1.1.4 in /opt/conda/lib/python3.10/site-packages (from ultralytics) (2.1.3)\n",
            "Requirement already satisfied: seaborn>=0.11.0 in /opt/conda/lib/python3.10/site-packages (from ultralytics) (0.11.2)\n",
            "Requirement already satisfied: cycler>=0.10 in /opt/conda/lib/python3.10/site-packages (from matplotlib>=3.3.0->ultralytics) (0.11.0)\n",
            "Requirement already satisfied: fonttools>=4.22.0 in /opt/conda/lib/python3.10/site-packages (from matplotlib>=3.3.0->ultralytics) (4.25.0)\n",
            "Requirement already satisfied: kiwisolver>=1.0.1 in /opt/conda/lib/python3.10/site-packages (from matplotlib>=3.3.0->ultralytics) (1.4.2)\n",
            "Requirement already satisfied: packaging>=20.0 in /opt/conda/lib/python3.10/site-packages (from matplotlib>=3.3.0->ultralytics) (21.3)\n",
            "Requirement already satisfied: pyparsing>=2.2.1 in /opt/conda/lib/python3.10/site-packages (from matplotlib>=3.3.0->ultralytics) (3.0.9)\n",
            "Requirement already satisfied: python-dateutil>=2.7 in /opt/conda/lib/python3.10/site-packages (from matplotlib>=3.3.0->ultralytics) (2.8.2)\n",
            "Requirement already satisfied: pytz>=2020.1 in /opt/conda/lib/python3.10/site-packages (from pandas>=1.1.4->ultralytics) (2022.1)\n",
            "Requirement already satisfied: tzdata>=2022.1 in /opt/conda/lib/python3.10/site-packages (from pandas>=1.1.4->ultralytics) (2023.3)\n",
            "Requirement already satisfied: charset-normalizer<4,>=2 in /opt/conda/lib/python3.10/site-packages (from requests>=2.23.0->ultralytics) (2.0.4)\n",
            "Requirement already satisfied: idna<4,>=2.5 in /opt/conda/lib/python3.10/site-packages (from requests>=2.23.0->ultralytics) (3.3)\n",
            "Requirement already satisfied: urllib3<3,>=1.21.1 in /opt/conda/lib/python3.10/site-packages (from requests>=2.23.0->ultralytics) (1.26.18)\n",
            "Requirement already satisfied: certifi>=2017.4.17 in /opt/conda/lib/python3.10/site-packages (from requests>=2.23.0->ultralytics) (2023.11.17)\n",
            "Requirement already satisfied: filelock in /opt/conda/lib/python3.10/site-packages (from torch>=1.8.0->ultralytics) (3.6.0)\n",
            "Collecting typing-extensions>=4.8.0 (from torch>=1.8.0->ultralytics)\n",
            "  Using cached typing_extensions-4.9.0-py3-none-any.whl.metadata (3.0 kB)\n",
            "Requirement already satisfied: sympy in /opt/conda/lib/python3.10/site-packages (from torch>=1.8.0->ultralytics) (1.10.1)\n",
            "Requirement already satisfied: networkx in /opt/conda/lib/python3.10/site-packages (from torch>=1.8.0->ultralytics) (2.8.4)\n",
            "Requirement already satisfied: jinja2 in /opt/conda/lib/python3.10/site-packages (from torch>=1.8.0->ultralytics) (3.1.2)\n",
            "Requirement already satisfied: fsspec in /opt/conda/lib/python3.10/site-packages (from torch>=1.8.0->ultralytics) (2022.7.1)\n",
            "Collecting nvidia-cuda-nvrtc-cu12==12.1.105 (from torch>=1.8.0->ultralytics)\n",
            "  Downloading nvidia_cuda_nvrtc_cu12-12.1.105-py3-none-manylinux1_x86_64.whl (23.7 MB)\n",
            "\u001b[2K     \u001b[90m━━━━━━━━━━━━━━━━━━━━━━━━━━━━━━━━━━━━━━━━\u001b[0m \u001b[32m23.7/23.7 MB\u001b[0m \u001b[31m34.6 MB/s\u001b[0m eta \u001b[36m0:00:00\u001b[0m00:01\u001b[0m00:01\u001b[0m\n",
            "\u001b[?25hCollecting nvidia-cuda-runtime-cu12==12.1.105 (from torch>=1.8.0->ultralytics)\n",
            "  Downloading nvidia_cuda_runtime_cu12-12.1.105-py3-none-manylinux1_x86_64.whl (823 kB)\n",
            "\u001b[2K     \u001b[90m━━━━━━━━━━━━━━━━━━━━━━━━━━━━━━━━━━━━━━━\u001b[0m \u001b[32m823.6/823.6 kB\u001b[0m \u001b[31m9.2 MB/s\u001b[0m eta \u001b[36m0:00:00\u001b[0m00:01\u001b[0m\n",
            "\u001b[?25hCollecting nvidia-cuda-cupti-cu12==12.1.105 (from torch>=1.8.0->ultralytics)\n",
            "  Downloading nvidia_cuda_cupti_cu12-12.1.105-py3-none-manylinux1_x86_64.whl (14.1 MB)\n",
            "\u001b[2K     \u001b[90m━━━━━━━━━━━━━━━━━━━━━━━━━━━━━━━━━━━━━━━━\u001b[0m \u001b[32m14.1/14.1 MB\u001b[0m \u001b[31m38.8 MB/s\u001b[0m eta \u001b[36m0:00:00\u001b[0m00:01\u001b[0m00:01\u001b[0m\n",
            "\u001b[?25hCollecting nvidia-cudnn-cu12==8.9.2.26 (from torch>=1.8.0->ultralytics)\n",
            "  Downloading nvidia_cudnn_cu12-8.9.2.26-py3-none-manylinux1_x86_64.whl.metadata (1.6 kB)\n",
            "Collecting nvidia-cublas-cu12==12.1.3.1 (from torch>=1.8.0->ultralytics)\n",
            "  Downloading nvidia_cublas_cu12-12.1.3.1-py3-none-manylinux1_x86_64.whl (410.6 MB)\n",
            "\u001b[2K     \u001b[90m━━━━━━━━━━━━━━━━━━━━━━━━━━━━━━━━━━━━━━━\u001b[0m \u001b[32m410.6/410.6 MB\u001b[0m \u001b[31m2.6 MB/s\u001b[0m eta \u001b[36m0:00:00\u001b[0m00:01\u001b[0m00:01\u001b[0m\n",
            "\u001b[?25hCollecting nvidia-cufft-cu12==11.0.2.54 (from torch>=1.8.0->ultralytics)\n",
            "  Downloading nvidia_cufft_cu12-11.0.2.54-py3-none-manylinux1_x86_64.whl (121.6 MB)\n",
            "\u001b[2K     \u001b[90m━━━━━━━━━━━━━━━━━━━━━━━━━━━━━━━━━━━━━━\u001b[0m \u001b[32m121.6/121.6 MB\u001b[0m \u001b[31m11.1 MB/s\u001b[0m eta \u001b[36m0:00:00\u001b[0m00:01\u001b[0m00:01\u001b[0m\n",
            "\u001b[?25hCollecting nvidia-curand-cu12==10.3.2.106 (from torch>=1.8.0->ultralytics)\n",
            "  Downloading nvidia_curand_cu12-10.3.2.106-py3-none-manylinux1_x86_64.whl (56.5 MB)\n",
            "\u001b[2K     \u001b[90m━━━━━━━━━━━━━━━━━━━━━━━━━━━━━━━━━━━━━━━━\u001b[0m \u001b[32m56.5/56.5 MB\u001b[0m \u001b[31m26.6 MB/s\u001b[0m eta \u001b[36m0:00:00\u001b[0m00:01\u001b[0m00:01\u001b[0m\n",
            "\u001b[?25hCollecting nvidia-cusolver-cu12==11.4.5.107 (from torch>=1.8.0->ultralytics)\n",
            "  Downloading nvidia_cusolver_cu12-11.4.5.107-py3-none-manylinux1_x86_64.whl (124.2 MB)\n",
            "\u001b[2K     \u001b[90m━━━━━━━━━━━━━━━━━━━━━━━━━━━━━━━━━━━━━━━\u001b[0m \u001b[32m124.2/124.2 MB\u001b[0m \u001b[31m8.5 MB/s\u001b[0m eta \u001b[36m0:00:00\u001b[0m00:01\u001b[0m00:01\u001b[0m\n",
            "\u001b[?25hCollecting nvidia-cusparse-cu12==12.1.0.106 (from torch>=1.8.0->ultralytics)\n",
            "  Downloading nvidia_cusparse_cu12-12.1.0.106-py3-none-manylinux1_x86_64.whl (196.0 MB)\n",
            "\u001b[2K     \u001b[90m━━━━━━━━━━━━━━━━━━━━━━━━━━━━━━━━━━━━━━━\u001b[0m \u001b[32m196.0/196.0 MB\u001b[0m \u001b[31m5.6 MB/s\u001b[0m eta \u001b[36m0:00:00\u001b[0m00:01\u001b[0m00:01\u001b[0m\n",
            "\u001b[?25hCollecting nvidia-nccl-cu12==2.19.3 (from torch>=1.8.0->ultralytics)\n",
            "  Downloading nvidia_nccl_cu12-2.19.3-py3-none-manylinux1_x86_64.whl.metadata (1.8 kB)\n",
            "Collecting nvidia-nvtx-cu12==12.1.105 (from torch>=1.8.0->ultralytics)\n",
            "  Downloading nvidia_nvtx_cu12-12.1.105-py3-none-manylinux1_x86_64.whl (99 kB)\n",
            "\u001b[2K     \u001b[90m━━━━━━━━━━━━━━━━━━━━━━━━━━━━━━━━━━━━━━━━\u001b[0m \u001b[32m99.1/99.1 kB\u001b[0m \u001b[31m1.4 MB/s\u001b[0m eta \u001b[36m0:00:00\u001b[0mta \u001b[36m0:00:01\u001b[0m\n",
            "\u001b[?25hCollecting triton==2.2.0 (from torch>=1.8.0->ultralytics)\n",
            "  Downloading triton-2.2.0-cp310-cp310-manylinux_2_17_x86_64.manylinux2014_x86_64.whl.metadata (1.4 kB)\n",
            "Collecting nvidia-nvjitlink-cu12 (from nvidia-cusolver-cu12==11.4.5.107->torch>=1.8.0->ultralytics)\n",
            "  Downloading nvidia_nvjitlink_cu12-12.3.101-py3-none-manylinux1_x86_64.whl.metadata (1.5 kB)\n",
            "Requirement already satisfied: six>=1.5 in /opt/conda/lib/python3.10/site-packages (from python-dateutil>=2.7->matplotlib>=3.3.0->ultralytics) (1.16.0)\n",
            "Requirement already satisfied: MarkupSafe>=2.0 in /opt/conda/lib/python3.10/site-packages (from jinja2->torch>=1.8.0->ultralytics) (2.1.3)\n",
            "Requirement already satisfied: mpmath>=0.19 in /opt/conda/lib/python3.10/site-packages (from sympy->torch>=1.8.0->ultralytics) (1.3.0)\n",
            "Downloading ultralytics-8.1.9-py3-none-any.whl (709 kB)\n",
            "\u001b[2K   \u001b[90m━━━━━━━━━━━━━━━━━━━━━━━━━━━━━━━━━━━━━━━━\u001b[0m \u001b[32m709.3/709.3 kB\u001b[0m \u001b[31m6.8 MB/s\u001b[0m eta \u001b[36m0:00:00\u001b[0m:00:01\u001b[0m\n",
            "\u001b[?25hUsing cached opencv_python-4.9.0.80-cp37-abi3-manylinux_2_17_x86_64.manylinux2014_x86_64.whl (62.2 MB)\n",
            "Downloading torch-2.2.0-cp310-cp310-manylinux1_x86_64.whl (755.5 MB)\n",
            "\u001b[2K   \u001b[90m━━━━━━━━━━━━━━━━━━━━━━━━━━━━━━━━━━━━━━━━\u001b[0m \u001b[32m755.5/755.5 MB\u001b[0m \u001b[31m1.4 MB/s\u001b[0m eta \u001b[36m0:00:00\u001b[0m:00:01\u001b[0m00:01\u001b[0m\n",
            "\u001b[?25hDownloading nvidia_cudnn_cu12-8.9.2.26-py3-none-manylinux1_x86_64.whl (731.7 MB)\n",
            "\u001b[2K   \u001b[90m━━━━━━━━━━━━━━━━━━━━━━━━━━━━━━━━━━━━━━━━\u001b[0m \u001b[32m731.7/731.7 MB\u001b[0m \u001b[31m1.5 MB/s\u001b[0m eta \u001b[36m0:00:00\u001b[0m:00:01\u001b[0m00:01\u001b[0m\n",
            "\u001b[?25hDownloading nvidia_nccl_cu12-2.19.3-py3-none-manylinux1_x86_64.whl (166.0 MB)\n",
            "\u001b[2K   \u001b[90m━━━━━━━━━━━━━━━━━━━━━━━━━━━━━━━━━━━━━━━━\u001b[0m \u001b[32m166.0/166.0 MB\u001b[0m \u001b[31m7.3 MB/s\u001b[0m eta \u001b[36m0:00:00\u001b[0m:00:01\u001b[0m00:01\u001b[0m\n",
            "\u001b[?25hDownloading triton-2.2.0-cp310-cp310-manylinux_2_17_x86_64.manylinux2014_x86_64.whl (167.9 MB)\n",
            "\u001b[2K   \u001b[90m━━━━━━━━━━━━━━━━━━━━━━━━━━━━━━━━━━━━━━━━\u001b[0m \u001b[32m167.9/167.9 MB\u001b[0m \u001b[31m7.2 MB/s\u001b[0m eta \u001b[36m0:00:00\u001b[0m:00:01\u001b[0m00:01\u001b[0m\n",
            "\u001b[?25hDownloading torchvision-0.17.0-cp310-cp310-manylinux1_x86_64.whl (6.9 MB)\n",
            "\u001b[2K   \u001b[90m━━━━━━━━━━━━━━━━━━━━━━━━━━━━━━━━━━━━━━━━\u001b[0m \u001b[32m6.9/6.9 MB\u001b[0m \u001b[31m36.8 MB/s\u001b[0m eta \u001b[36m0:00:00\u001b[0m:00:01\u001b[0m00:01\u001b[0m\n",
            "\u001b[?25hUsing cached typing_extensions-4.9.0-py3-none-any.whl (32 kB)\n",
            "Downloading nvidia_nvjitlink_cu12-12.3.101-py3-none-manylinux1_x86_64.whl (20.5 MB)\n",
            "\u001b[2K   \u001b[90m━━━━━━━━━━━━━━━━━━━━━━━━━━━━━━━━━━━━━━━━\u001b[0m \u001b[32m20.5/20.5 MB\u001b[0m \u001b[31m35.3 MB/s\u001b[0m eta \u001b[36m0:00:00\u001b[0m:00:01\u001b[0m00:01\u001b[0m\n",
            "\u001b[?25hInstalling collected packages: py-cpuinfo, typing-extensions, triton, opencv-python, nvidia-nvtx-cu12, nvidia-nvjitlink-cu12, nvidia-nccl-cu12, nvidia-curand-cu12, nvidia-cufft-cu12, nvidia-cuda-runtime-cu12, nvidia-cuda-nvrtc-cu12, nvidia-cuda-cupti-cu12, nvidia-cublas-cu12, nvidia-cusparse-cu12, nvidia-cudnn-cu12, nvidia-cusolver-cu12, torch, torchvision, thop, ultralytics\n",
            "  Attempting uninstall: typing-extensions\n",
            "    Found existing installation: typing_extensions 4.3.0\n",
            "    Uninstalling typing_extensions-4.3.0:\n",
            "      Successfully uninstalled typing_extensions-4.3.0\n",
            "\u001b[31mERROR: pip's dependency resolver does not currently take into account all the packages that are installed. This behaviour is the source of the following dependency conflicts.\n",
            "spyder 5.3.3 requires pyqt5<5.16, which is not installed.\n",
            "spyder 5.3.3 requires pyqtwebengine<5.16, which is not installed.\n",
            "panel 0.13.1 requires bokeh<2.5.0,>=2.4.0, but you have bokeh 3.3.2 which is incompatible.\n",
            "spyder 5.3.3 requires ipython<8.0.0,>=7.31.1, but you have ipython 8.18.1 which is incompatible.\n",
            "spyder 5.3.3 requires pylint<3.0,>=2.5.0, but you have pylint 3.0.2 which is incompatible.\u001b[0m\u001b[31m\n",
            "\u001b[0mSuccessfully installed nvidia-cublas-cu12-12.1.3.1 nvidia-cuda-cupti-cu12-12.1.105 nvidia-cuda-nvrtc-cu12-12.1.105 nvidia-cuda-runtime-cu12-12.1.105 nvidia-cudnn-cu12-8.9.2.26 nvidia-cufft-cu12-11.0.2.54 nvidia-curand-cu12-10.3.2.106 nvidia-cusolver-cu12-11.4.5.107 nvidia-cusparse-cu12-12.1.0.106 nvidia-nccl-cu12-2.19.3 nvidia-nvjitlink-cu12-12.3.101 nvidia-nvtx-cu12-12.1.105 opencv-python-4.9.0.80 py-cpuinfo-9.0.0 thop-0.1.1.post2209072238 torch-2.2.0 torchvision-0.17.0 triton-2.2.0 typing-extensions-4.9.0 ultralytics-8.1.9\n",
            "\u001b[33mWARNING: Running pip as the 'root' user can result in broken permissions and conflicting behaviour with the system package manager. It is recommended to use a virtual environment instead: https://pip.pypa.io/warnings/venv\u001b[0m\u001b[33m\n",
            "\u001b[0m\n",
            "\u001b[1m[\u001b[0m\u001b[34;49mnotice\u001b[0m\u001b[1;39;49m]\u001b[0m\u001b[39;49m A new release of pip is available: \u001b[0m\u001b[31;49m23.3.1\u001b[0m\u001b[39;49m -> \u001b[0m\u001b[32;49m23.3.2\u001b[0m\n",
            "\u001b[1m[\u001b[0m\u001b[34;49mnotice\u001b[0m\u001b[1;39;49m]\u001b[0m\u001b[39;49m To update, run: \u001b[0m\u001b[32;49mpip install --upgrade pip\u001b[0m\n"
          ]
        }
      ],
      "source": [
        "!pip install ultralytics"
      ]
    },
    {
      "cell_type": "code",
      "execution_count": null,
      "id": "10aa506c-74e4-44d8-9d9d-ee50cf84b67d",
      "metadata": {
        "tags": [],
        "id": "10aa506c-74e4-44d8-9d9d-ee50cf84b67d",
        "outputId": "ee2f3e24-9819-44d3-aeea-17514b04abeb"
      },
      "outputs": [
        {
          "name": "stdout",
          "output_type": "stream",
          "text": [
            "Collecting opencv-python-headless\n",
            "  Using cached opencv_python_headless-4.9.0.80-cp37-abi3-manylinux_2_17_x86_64.manylinux2014_x86_64.whl.metadata (20 kB)\n",
            "Requirement already satisfied: numpy>=1.21.2 in /opt/conda/lib/python3.10/site-packages (from opencv-python-headless) (1.26.2)\n",
            "Using cached opencv_python_headless-4.9.0.80-cp37-abi3-manylinux_2_17_x86_64.manylinux2014_x86_64.whl (49.6 MB)\n",
            "Installing collected packages: opencv-python-headless\n",
            "Successfully installed opencv-python-headless-4.9.0.80\n",
            "\u001b[33mWARNING: Running pip as the 'root' user can result in broken permissions and conflicting behaviour with the system package manager. It is recommended to use a virtual environment instead: https://pip.pypa.io/warnings/venv\u001b[0m\u001b[33m\n",
            "\u001b[0m\n",
            "\u001b[1m[\u001b[0m\u001b[34;49mnotice\u001b[0m\u001b[1;39;49m]\u001b[0m\u001b[39;49m A new release of pip is available: \u001b[0m\u001b[31;49m23.3.1\u001b[0m\u001b[39;49m -> \u001b[0m\u001b[32;49m23.3.2\u001b[0m\n",
            "\u001b[1m[\u001b[0m\u001b[34;49mnotice\u001b[0m\u001b[1;39;49m]\u001b[0m\u001b[39;49m To update, run: \u001b[0m\u001b[32;49mpip install --upgrade pip\u001b[0m\n"
          ]
        }
      ],
      "source": [
        "!pip install opencv-python-headless"
      ]
    },
    {
      "cell_type": "markdown",
      "id": "519f3e67-2d56-49b1-9c9b-1abec7b6d243",
      "metadata": {
        "tags": [],
        "id": "519f3e67-2d56-49b1-9c9b-1abec7b6d243"
      },
      "source": [
        "# Create Estimator"
      ]
    },
    {
      "cell_type": "code",
      "execution_count": null,
      "id": "15ae7510-d821-4f42-9d3a-23a2a5584512",
      "metadata": {
        "tags": [],
        "id": "15ae7510-d821-4f42-9d3a-23a2a5584512",
        "outputId": "9f9ce31a-5a6b-43f3-efa4-cccd19a2feb5"
      },
      "outputs": [
        {
          "ename": "AttributeError",
          "evalue": "'SageMaker' object has no attribute 'local_mode'",
          "output_type": "error",
          "traceback": [
            "\u001b[0;31m---------------------------------------------------------------------------\u001b[0m",
            "\u001b[0;31mAttributeError\u001b[0m                            Traceback (most recent call last)",
            "Cell \u001b[0;32mIn[146], line 5\u001b[0m\n\u001b[1;32m      2\u001b[0m \u001b[38;5;28;01mimport\u001b[39;00m \u001b[38;5;21;01mcv2\u001b[39;00m\n\u001b[1;32m      3\u001b[0m \u001b[38;5;28;01mfrom\u001b[39;00m \u001b[38;5;21;01multralytics\u001b[39;00m \u001b[38;5;28;01mimport\u001b[39;00m YOLO\n\u001b[0;32m----> 5\u001b[0m pytorch_estimator \u001b[38;5;241m=\u001b[39m \u001b[43mPyTorch\u001b[49m\u001b[43m(\u001b[49m\u001b[38;5;124;43m'\u001b[39;49m\u001b[38;5;124;43mtrain.py\u001b[39;49m\u001b[38;5;124;43m'\u001b[39;49m\u001b[43m,\u001b[49m\n\u001b[1;32m      6\u001b[0m \u001b[43m                            \u001b[49m\u001b[43minstance_type\u001b[49m\u001b[38;5;241;43m=\u001b[39;49m\u001b[38;5;124;43m'\u001b[39;49m\u001b[38;5;124;43mml.m5.xlarge\u001b[39;49m\u001b[38;5;124;43m'\u001b[39;49m\u001b[43m,\u001b[49m\n\u001b[1;32m      7\u001b[0m \u001b[43m                            \u001b[49m\u001b[43minstance_count\u001b[49m\u001b[38;5;241;43m=\u001b[39;49m\u001b[38;5;241;43m1\u001b[39;49m\u001b[43m,\u001b[49m\n\u001b[1;32m      8\u001b[0m \u001b[43m                            \u001b[49m\u001b[43mframework_version\u001b[49m\u001b[38;5;241;43m=\u001b[39;49m\u001b[38;5;124;43m'\u001b[39;49m\u001b[38;5;124;43m1.8.0\u001b[39;49m\u001b[38;5;124;43m'\u001b[39;49m\u001b[43m,\u001b[49m\n\u001b[1;32m      9\u001b[0m \u001b[43m                            \u001b[49m\u001b[43mpy_version\u001b[49m\u001b[38;5;241;43m=\u001b[39;49m\u001b[38;5;124;43m'\u001b[39;49m\u001b[38;5;124;43mpy3\u001b[39;49m\u001b[38;5;124;43m'\u001b[39;49m\u001b[43m,\u001b[49m\n\u001b[1;32m     10\u001b[0m \u001b[43m                            \u001b[49m\u001b[43mhyperparameters\u001b[49m\u001b[43m \u001b[49m\u001b[38;5;241;43m=\u001b[39;49m\u001b[43m \u001b[49m\u001b[43m{\u001b[49m\u001b[38;5;124;43m'\u001b[39;49m\u001b[38;5;124;43mepochs\u001b[39;49m\u001b[38;5;124;43m'\u001b[39;49m\u001b[43m:\u001b[49m\u001b[43m \u001b[49m\u001b[38;5;241;43m2\u001b[39;49m\u001b[43m,\u001b[49m\u001b[43m \u001b[49m\u001b[38;5;124;43m'\u001b[39;49m\u001b[38;5;124;43mbatch-size\u001b[39;49m\u001b[38;5;124;43m'\u001b[39;49m\u001b[43m:\u001b[49m\u001b[43m \u001b[49m\u001b[38;5;241;43m2\u001b[39;49m\u001b[43m,\u001b[49m\u001b[43m \u001b[49m\u001b[38;5;124;43m'\u001b[39;49m\u001b[38;5;124;43mlearning-rate\u001b[39;49m\u001b[38;5;124;43m'\u001b[39;49m\u001b[43m:\u001b[49m\u001b[43m \u001b[49m\u001b[38;5;241;43m0.1\u001b[39;49m\u001b[43m}\u001b[49m\u001b[43m,\u001b[49m\n\u001b[1;32m     11\u001b[0m \u001b[43m                            \u001b[49m\u001b[43msagemaker_session\u001b[49m\u001b[38;5;241;43m=\u001b[39;49m\u001b[43msm\u001b[49m\u001b[43m)\u001b[49m\n\u001b[1;32m     13\u001b[0m pytorch_estimator\u001b[38;5;241m.\u001b[39mfit({\u001b[38;5;124m'\u001b[39m\u001b[38;5;124mtrain\u001b[39m\u001b[38;5;124m'\u001b[39m: \u001b[38;5;124m\"\u001b[39m\u001b[38;5;132;01m{}\u001b[39;00m\u001b[38;5;124m\"\u001b[39m\u001b[38;5;241m.\u001b[39mformat(s3_images_dest),\n\u001b[1;32m     14\u001b[0m                        \u001b[38;5;124m'\u001b[39m\u001b[38;5;124mtest\u001b[39m\u001b[38;5;124m'\u001b[39m: \u001b[38;5;124m\"\u001b[39m\u001b[38;5;132;01m{}\u001b[39;00m\u001b[38;5;124m\"\u001b[39m\u001b[38;5;241m.\u001b[39mformat(s3_images_dest)})\n",
            "File \u001b[0;32m/opt/conda/lib/python3.10/site-packages/sagemaker/pytorch/estimator.py:271\u001b[0m, in \u001b[0;36mPyTorch.__init__\u001b[0;34m(self, entry_point, framework_version, py_version, source_dir, hyperparameters, image_uri, distribution, compiler_config, **kwargs)\u001b[0m\n\u001b[1;32m    268\u001b[0m     \u001b[38;5;28;01mif\u001b[39;00m \u001b[38;5;28mself\u001b[39m\u001b[38;5;241m.\u001b[39mframework_version \u001b[38;5;129;01mand\u001b[39;00m Version(\u001b[38;5;28mself\u001b[39m\u001b[38;5;241m.\u001b[39mframework_version) \u001b[38;5;241m>\u001b[39m\u001b[38;5;241m=\u001b[39m Version(\u001b[38;5;124m\"\u001b[39m\u001b[38;5;124m1.3\u001b[39m\u001b[38;5;124m\"\u001b[39m):\n\u001b[1;32m    269\u001b[0m         kwargs[\u001b[38;5;124m\"\u001b[39m\u001b[38;5;124menable_sagemaker_metrics\u001b[39m\u001b[38;5;124m\"\u001b[39m] \u001b[38;5;241m=\u001b[39m \u001b[38;5;28;01mTrue\u001b[39;00m\n\u001b[0;32m--> 271\u001b[0m \u001b[38;5;28;43msuper\u001b[39;49m\u001b[43m(\u001b[49m\u001b[43mPyTorch\u001b[49m\u001b[43m,\u001b[49m\u001b[43m \u001b[49m\u001b[38;5;28;43mself\u001b[39;49m\u001b[43m)\u001b[49m\u001b[38;5;241;43m.\u001b[39;49m\u001b[38;5;21;43m__init__\u001b[39;49m\u001b[43m(\u001b[49m\n\u001b[1;32m    272\u001b[0m \u001b[43m    \u001b[49m\u001b[43mentry_point\u001b[49m\u001b[43m,\u001b[49m\u001b[43m \u001b[49m\u001b[43msource_dir\u001b[49m\u001b[43m,\u001b[49m\u001b[43m \u001b[49m\u001b[43mhyperparameters\u001b[49m\u001b[43m,\u001b[49m\u001b[43m \u001b[49m\u001b[43mimage_uri\u001b[49m\u001b[38;5;241;43m=\u001b[39;49m\u001b[43mimage_uri\u001b[49m\u001b[43m,\u001b[49m\u001b[43m \u001b[49m\u001b[38;5;241;43m*\u001b[39;49m\u001b[38;5;241;43m*\u001b[39;49m\u001b[43mkwargs\u001b[49m\n\u001b[1;32m    273\u001b[0m \u001b[43m\u001b[49m\u001b[43m)\u001b[49m\n\u001b[1;32m    275\u001b[0m \u001b[38;5;28;01mif\u001b[39;00m \u001b[38;5;124m\"\u001b[39m\u001b[38;5;124mentry_point\u001b[39m\u001b[38;5;124m\"\u001b[39m \u001b[38;5;129;01mnot\u001b[39;00m \u001b[38;5;129;01min\u001b[39;00m kwargs:\n\u001b[1;32m    276\u001b[0m     kwargs[\u001b[38;5;124m\"\u001b[39m\u001b[38;5;124mentry_point\u001b[39m\u001b[38;5;124m\"\u001b[39m] \u001b[38;5;241m=\u001b[39m entry_point\n",
            "File \u001b[0;32m/opt/conda/lib/python3.10/site-packages/sagemaker/estimator.py:3478\u001b[0m, in \u001b[0;36mFramework.__init__\u001b[0;34m(self, entry_point, source_dir, hyperparameters, container_log_level, code_location, image_uri, dependencies, enable_network_isolation, git_config, checkpoint_s3_uri, checkpoint_local_path, enable_sagemaker_metrics, **kwargs)\u001b[0m\n\u001b[1;32m   3291\u001b[0m \u001b[38;5;28;01mdef\u001b[39;00m \u001b[38;5;21m__init__\u001b[39m(\n\u001b[1;32m   3292\u001b[0m     \u001b[38;5;28mself\u001b[39m,\n\u001b[1;32m   3293\u001b[0m     entry_point: Union[\u001b[38;5;28mstr\u001b[39m, PipelineVariable],\n\u001b[0;32m   (...)\u001b[0m\n\u001b[1;32m   3305\u001b[0m     \u001b[38;5;241m*\u001b[39m\u001b[38;5;241m*\u001b[39mkwargs,\n\u001b[1;32m   3306\u001b[0m ):\n\u001b[1;32m   3307\u001b[0m \u001b[38;5;250m    \u001b[39m\u001b[38;5;124;03m\"\"\"Base class initializer.\u001b[39;00m\n\u001b[1;32m   3308\u001b[0m \n\u001b[1;32m   3309\u001b[0m \u001b[38;5;124;03m    Subclasses which override ``__init__`` should invoke ``super()``.\u001b[39;00m\n\u001b[0;32m   (...)\u001b[0m\n\u001b[1;32m   3476\u001b[0m \u001b[38;5;124;03m        :class:`~sagemaker.estimator.EstimatorBase`.\u001b[39;00m\n\u001b[1;32m   3477\u001b[0m \u001b[38;5;124;03m    \"\"\"\u001b[39;00m\n\u001b[0;32m-> 3478\u001b[0m     \u001b[38;5;28;43msuper\u001b[39;49m\u001b[43m(\u001b[49m\u001b[43mFramework\u001b[49m\u001b[43m,\u001b[49m\u001b[43m \u001b[49m\u001b[38;5;28;43mself\u001b[39;49m\u001b[43m)\u001b[49m\u001b[38;5;241;43m.\u001b[39;49m\u001b[38;5;21;43m__init__\u001b[39;49m\u001b[43m(\u001b[49m\u001b[43menable_network_isolation\u001b[49m\u001b[38;5;241;43m=\u001b[39;49m\u001b[43menable_network_isolation\u001b[49m\u001b[43m,\u001b[49m\u001b[43m \u001b[49m\u001b[38;5;241;43m*\u001b[39;49m\u001b[38;5;241;43m*\u001b[39;49m\u001b[43mkwargs\u001b[49m\u001b[43m)\u001b[49m\n\u001b[1;32m   3479\u001b[0m     image_uri \u001b[38;5;241m=\u001b[39m renamed_kwargs(\u001b[38;5;124m\"\u001b[39m\u001b[38;5;124mimage_name\u001b[39m\u001b[38;5;124m\"\u001b[39m, \u001b[38;5;124m\"\u001b[39m\u001b[38;5;124mimage_uri\u001b[39m\u001b[38;5;124m\"\u001b[39m, image_uri, kwargs)\n\u001b[1;32m   3481\u001b[0m     validate_source_code_input_against_pipeline_variables(\n\u001b[1;32m   3482\u001b[0m         entry_point\u001b[38;5;241m=\u001b[39mentry_point,\n\u001b[1;32m   3483\u001b[0m         source_dir\u001b[38;5;241m=\u001b[39msource_dir,\n\u001b[1;32m   3484\u001b[0m         git_config\u001b[38;5;241m=\u001b[39mgit_config,\n\u001b[1;32m   3485\u001b[0m         enable_network_isolation\u001b[38;5;241m=\u001b[39menable_network_isolation,\n\u001b[1;32m   3486\u001b[0m     )\n",
            "File \u001b[0;32m/opt/conda/lib/python3.10/site-packages/sagemaker/estimator.py:622\u001b[0m, in \u001b[0;36mEstimatorBase.__init__\u001b[0;34m(self, role, instance_count, instance_type, keep_alive_period_in_seconds, volume_size, volume_kms_key, max_run, input_mode, output_path, output_kms_key, base_job_name, sagemaker_session, tags, subnets, security_group_ids, model_uri, model_channel_name, metric_definitions, encrypt_inter_container_traffic, use_spot_instances, max_wait, checkpoint_s3_uri, checkpoint_local_path, rules, debugger_hook_config, tensorboard_output_config, enable_sagemaker_metrics, enable_network_isolation, profiler_config, disable_profiler, environment, max_retry_attempts, source_dir, git_config, hyperparameters, container_log_level, code_location, entry_point, dependencies, instance_groups, training_repository_access_mode, training_repository_credentials_provider_arn, enable_infra_check, container_entry_point, container_arguments, disable_output_compression, enable_remote_debug, **kwargs)\u001b[0m\n\u001b[1;32m    619\u001b[0m \u001b[38;5;28mself\u001b[39m\u001b[38;5;241m.\u001b[39mbase_job_name \u001b[38;5;241m=\u001b[39m base_job_name\n\u001b[1;32m    620\u001b[0m \u001b[38;5;28mself\u001b[39m\u001b[38;5;241m.\u001b[39m_current_job_name \u001b[38;5;241m=\u001b[39m \u001b[38;5;28;01mNone\u001b[39;00m\n\u001b[1;32m    621\u001b[0m \u001b[38;5;28;01mif\u001b[39;00m (\n\u001b[0;32m--> 622\u001b[0m     \u001b[38;5;129;01mnot\u001b[39;00m \u001b[38;5;28;43mself\u001b[39;49m\u001b[38;5;241;43m.\u001b[39;49m\u001b[43msagemaker_session\u001b[49m\u001b[38;5;241;43m.\u001b[39;49m\u001b[43mlocal_mode\u001b[49m\n\u001b[1;32m    623\u001b[0m     \u001b[38;5;129;01mand\u001b[39;00m output_path\n\u001b[1;32m    624\u001b[0m     \u001b[38;5;129;01mand\u001b[39;00m \u001b[38;5;129;01mnot\u001b[39;00m is_pipeline_variable(output_path)\n\u001b[1;32m    625\u001b[0m     \u001b[38;5;129;01mand\u001b[39;00m output_path\u001b[38;5;241m.\u001b[39mstartswith(\u001b[38;5;124m\"\u001b[39m\u001b[38;5;124mfile://\u001b[39m\u001b[38;5;124m\"\u001b[39m)\n\u001b[1;32m    626\u001b[0m ):\n\u001b[1;32m    627\u001b[0m     \u001b[38;5;28;01mraise\u001b[39;00m \u001b[38;5;167;01mRuntimeError\u001b[39;00m(\u001b[38;5;124m\"\u001b[39m\u001b[38;5;124mfile:// output paths are only supported in Local Mode\u001b[39m\u001b[38;5;124m\"\u001b[39m)\n\u001b[1;32m    628\u001b[0m \u001b[38;5;28mself\u001b[39m\u001b[38;5;241m.\u001b[39moutput_path \u001b[38;5;241m=\u001b[39m output_path\n",
            "File \u001b[0;32m/opt/conda/lib/python3.10/site-packages/botocore/client.py:906\u001b[0m, in \u001b[0;36mBaseClient.__getattr__\u001b[0;34m(self, item)\u001b[0m\n\u001b[1;32m    903\u001b[0m \u001b[38;5;28;01mif\u001b[39;00m event_response \u001b[38;5;129;01mis\u001b[39;00m \u001b[38;5;129;01mnot\u001b[39;00m \u001b[38;5;28;01mNone\u001b[39;00m:\n\u001b[1;32m    904\u001b[0m     \u001b[38;5;28;01mreturn\u001b[39;00m event_response\n\u001b[0;32m--> 906\u001b[0m \u001b[38;5;28;01mraise\u001b[39;00m \u001b[38;5;167;01mAttributeError\u001b[39;00m(\n\u001b[1;32m    907\u001b[0m     \u001b[38;5;124mf\u001b[39m\u001b[38;5;124m\"\u001b[39m\u001b[38;5;124m'\u001b[39m\u001b[38;5;132;01m{\u001b[39;00m\u001b[38;5;28mself\u001b[39m\u001b[38;5;241m.\u001b[39m\u001b[38;5;18m__class__\u001b[39m\u001b[38;5;241m.\u001b[39m\u001b[38;5;18m__name__\u001b[39m\u001b[38;5;132;01m}\u001b[39;00m\u001b[38;5;124m'\u001b[39m\u001b[38;5;124m object has no attribute \u001b[39m\u001b[38;5;124m'\u001b[39m\u001b[38;5;132;01m{\u001b[39;00mitem\u001b[38;5;132;01m}\u001b[39;00m\u001b[38;5;124m'\u001b[39m\u001b[38;5;124m\"\u001b[39m\n\u001b[1;32m    908\u001b[0m )\n",
            "\u001b[0;31mAttributeError\u001b[0m: 'SageMaker' object has no attribute 'local_mode'"
          ]
        }
      ],
      "source": [
        "from sagemaker.pytorch import PyTorch\n",
        "import cv2\n",
        "from ultralytics import YOLO\n",
        "\n",
        "pytorch_estimator = PyTorch('train.py',\n",
        "                            instance_type='ml.m5.xlarge',\n",
        "                            instance_count=1,\n",
        "                            framework_version='1.8.0',\n",
        "                            py_version='py3',\n",
        "                            hyperparameters = {'epochs': 2, 'batch-size': 2, 'learning-rate': 0.1},\n",
        "                            sagemaker_session=sm)\n",
        "\n",
        "pytorch_estimator.fit({'train': \"{}\".format(s3_images_dest),\n",
        "                       'test': \"{}\".format(s3_images_dest)})"
      ]
    }
  ],
  "metadata": {
    "availableInstances": [
      {
        "_defaultOrder": 0,
        "_isFastLaunch": true,
        "category": "General purpose",
        "gpuNum": 0,
        "hideHardwareSpecs": false,
        "memoryGiB": 4,
        "name": "ml.t3.medium",
        "vcpuNum": 2
      },
      {
        "_defaultOrder": 1,
        "_isFastLaunch": false,
        "category": "General purpose",
        "gpuNum": 0,
        "hideHardwareSpecs": false,
        "memoryGiB": 8,
        "name": "ml.t3.large",
        "vcpuNum": 2
      },
      {
        "_defaultOrder": 2,
        "_isFastLaunch": false,
        "category": "General purpose",
        "gpuNum": 0,
        "hideHardwareSpecs": false,
        "memoryGiB": 16,
        "name": "ml.t3.xlarge",
        "vcpuNum": 4
      },
      {
        "_defaultOrder": 3,
        "_isFastLaunch": false,
        "category": "General purpose",
        "gpuNum": 0,
        "hideHardwareSpecs": false,
        "memoryGiB": 32,
        "name": "ml.t3.2xlarge",
        "vcpuNum": 8
      },
      {
        "_defaultOrder": 4,
        "_isFastLaunch": true,
        "category": "General purpose",
        "gpuNum": 0,
        "hideHardwareSpecs": false,
        "memoryGiB": 8,
        "name": "ml.m5.large",
        "vcpuNum": 2
      },
      {
        "_defaultOrder": 5,
        "_isFastLaunch": false,
        "category": "General purpose",
        "gpuNum": 0,
        "hideHardwareSpecs": false,
        "memoryGiB": 16,
        "name": "ml.m5.xlarge",
        "vcpuNum": 4
      },
      {
        "_defaultOrder": 6,
        "_isFastLaunch": false,
        "category": "General purpose",
        "gpuNum": 0,
        "hideHardwareSpecs": false,
        "memoryGiB": 32,
        "name": "ml.m5.2xlarge",
        "vcpuNum": 8
      },
      {
        "_defaultOrder": 7,
        "_isFastLaunch": false,
        "category": "General purpose",
        "gpuNum": 0,
        "hideHardwareSpecs": false,
        "memoryGiB": 64,
        "name": "ml.m5.4xlarge",
        "vcpuNum": 16
      },
      {
        "_defaultOrder": 8,
        "_isFastLaunch": false,
        "category": "General purpose",
        "gpuNum": 0,
        "hideHardwareSpecs": false,
        "memoryGiB": 128,
        "name": "ml.m5.8xlarge",
        "vcpuNum": 32
      },
      {
        "_defaultOrder": 9,
        "_isFastLaunch": false,
        "category": "General purpose",
        "gpuNum": 0,
        "hideHardwareSpecs": false,
        "memoryGiB": 192,
        "name": "ml.m5.12xlarge",
        "vcpuNum": 48
      },
      {
        "_defaultOrder": 10,
        "_isFastLaunch": false,
        "category": "General purpose",
        "gpuNum": 0,
        "hideHardwareSpecs": false,
        "memoryGiB": 256,
        "name": "ml.m5.16xlarge",
        "vcpuNum": 64
      },
      {
        "_defaultOrder": 11,
        "_isFastLaunch": false,
        "category": "General purpose",
        "gpuNum": 0,
        "hideHardwareSpecs": false,
        "memoryGiB": 384,
        "name": "ml.m5.24xlarge",
        "vcpuNum": 96
      },
      {
        "_defaultOrder": 12,
        "_isFastLaunch": false,
        "category": "General purpose",
        "gpuNum": 0,
        "hideHardwareSpecs": false,
        "memoryGiB": 8,
        "name": "ml.m5d.large",
        "vcpuNum": 2
      },
      {
        "_defaultOrder": 13,
        "_isFastLaunch": false,
        "category": "General purpose",
        "gpuNum": 0,
        "hideHardwareSpecs": false,
        "memoryGiB": 16,
        "name": "ml.m5d.xlarge",
        "vcpuNum": 4
      },
      {
        "_defaultOrder": 14,
        "_isFastLaunch": false,
        "category": "General purpose",
        "gpuNum": 0,
        "hideHardwareSpecs": false,
        "memoryGiB": 32,
        "name": "ml.m5d.2xlarge",
        "vcpuNum": 8
      },
      {
        "_defaultOrder": 15,
        "_isFastLaunch": false,
        "category": "General purpose",
        "gpuNum": 0,
        "hideHardwareSpecs": false,
        "memoryGiB": 64,
        "name": "ml.m5d.4xlarge",
        "vcpuNum": 16
      },
      {
        "_defaultOrder": 16,
        "_isFastLaunch": false,
        "category": "General purpose",
        "gpuNum": 0,
        "hideHardwareSpecs": false,
        "memoryGiB": 128,
        "name": "ml.m5d.8xlarge",
        "vcpuNum": 32
      },
      {
        "_defaultOrder": 17,
        "_isFastLaunch": false,
        "category": "General purpose",
        "gpuNum": 0,
        "hideHardwareSpecs": false,
        "memoryGiB": 192,
        "name": "ml.m5d.12xlarge",
        "vcpuNum": 48
      },
      {
        "_defaultOrder": 18,
        "_isFastLaunch": false,
        "category": "General purpose",
        "gpuNum": 0,
        "hideHardwareSpecs": false,
        "memoryGiB": 256,
        "name": "ml.m5d.16xlarge",
        "vcpuNum": 64
      },
      {
        "_defaultOrder": 19,
        "_isFastLaunch": false,
        "category": "General purpose",
        "gpuNum": 0,
        "hideHardwareSpecs": false,
        "memoryGiB": 384,
        "name": "ml.m5d.24xlarge",
        "vcpuNum": 96
      },
      {
        "_defaultOrder": 20,
        "_isFastLaunch": false,
        "category": "General purpose",
        "gpuNum": 0,
        "hideHardwareSpecs": true,
        "memoryGiB": 0,
        "name": "ml.geospatial.interactive",
        "supportedImageNames": [
          "sagemaker-geospatial-v1-0"
        ],
        "vcpuNum": 0
      },
      {
        "_defaultOrder": 21,
        "_isFastLaunch": true,
        "category": "Compute optimized",
        "gpuNum": 0,
        "hideHardwareSpecs": false,
        "memoryGiB": 4,
        "name": "ml.c5.large",
        "vcpuNum": 2
      },
      {
        "_defaultOrder": 22,
        "_isFastLaunch": false,
        "category": "Compute optimized",
        "gpuNum": 0,
        "hideHardwareSpecs": false,
        "memoryGiB": 8,
        "name": "ml.c5.xlarge",
        "vcpuNum": 4
      },
      {
        "_defaultOrder": 23,
        "_isFastLaunch": false,
        "category": "Compute optimized",
        "gpuNum": 0,
        "hideHardwareSpecs": false,
        "memoryGiB": 16,
        "name": "ml.c5.2xlarge",
        "vcpuNum": 8
      },
      {
        "_defaultOrder": 24,
        "_isFastLaunch": false,
        "category": "Compute optimized",
        "gpuNum": 0,
        "hideHardwareSpecs": false,
        "memoryGiB": 32,
        "name": "ml.c5.4xlarge",
        "vcpuNum": 16
      },
      {
        "_defaultOrder": 25,
        "_isFastLaunch": false,
        "category": "Compute optimized",
        "gpuNum": 0,
        "hideHardwareSpecs": false,
        "memoryGiB": 72,
        "name": "ml.c5.9xlarge",
        "vcpuNum": 36
      },
      {
        "_defaultOrder": 26,
        "_isFastLaunch": false,
        "category": "Compute optimized",
        "gpuNum": 0,
        "hideHardwareSpecs": false,
        "memoryGiB": 96,
        "name": "ml.c5.12xlarge",
        "vcpuNum": 48
      },
      {
        "_defaultOrder": 27,
        "_isFastLaunch": false,
        "category": "Compute optimized",
        "gpuNum": 0,
        "hideHardwareSpecs": false,
        "memoryGiB": 144,
        "name": "ml.c5.18xlarge",
        "vcpuNum": 72
      },
      {
        "_defaultOrder": 28,
        "_isFastLaunch": false,
        "category": "Compute optimized",
        "gpuNum": 0,
        "hideHardwareSpecs": false,
        "memoryGiB": 192,
        "name": "ml.c5.24xlarge",
        "vcpuNum": 96
      },
      {
        "_defaultOrder": 29,
        "_isFastLaunch": true,
        "category": "Accelerated computing",
        "gpuNum": 1,
        "hideHardwareSpecs": false,
        "memoryGiB": 16,
        "name": "ml.g4dn.xlarge",
        "vcpuNum": 4
      },
      {
        "_defaultOrder": 30,
        "_isFastLaunch": false,
        "category": "Accelerated computing",
        "gpuNum": 1,
        "hideHardwareSpecs": false,
        "memoryGiB": 32,
        "name": "ml.g4dn.2xlarge",
        "vcpuNum": 8
      },
      {
        "_defaultOrder": 31,
        "_isFastLaunch": false,
        "category": "Accelerated computing",
        "gpuNum": 1,
        "hideHardwareSpecs": false,
        "memoryGiB": 64,
        "name": "ml.g4dn.4xlarge",
        "vcpuNum": 16
      },
      {
        "_defaultOrder": 32,
        "_isFastLaunch": false,
        "category": "Accelerated computing",
        "gpuNum": 1,
        "hideHardwareSpecs": false,
        "memoryGiB": 128,
        "name": "ml.g4dn.8xlarge",
        "vcpuNum": 32
      },
      {
        "_defaultOrder": 33,
        "_isFastLaunch": false,
        "category": "Accelerated computing",
        "gpuNum": 4,
        "hideHardwareSpecs": false,
        "memoryGiB": 192,
        "name": "ml.g4dn.12xlarge",
        "vcpuNum": 48
      },
      {
        "_defaultOrder": 34,
        "_isFastLaunch": false,
        "category": "Accelerated computing",
        "gpuNum": 1,
        "hideHardwareSpecs": false,
        "memoryGiB": 256,
        "name": "ml.g4dn.16xlarge",
        "vcpuNum": 64
      },
      {
        "_defaultOrder": 35,
        "_isFastLaunch": false,
        "category": "Accelerated computing",
        "gpuNum": 1,
        "hideHardwareSpecs": false,
        "memoryGiB": 61,
        "name": "ml.p3.2xlarge",
        "vcpuNum": 8
      },
      {
        "_defaultOrder": 36,
        "_isFastLaunch": false,
        "category": "Accelerated computing",
        "gpuNum": 4,
        "hideHardwareSpecs": false,
        "memoryGiB": 244,
        "name": "ml.p3.8xlarge",
        "vcpuNum": 32
      },
      {
        "_defaultOrder": 37,
        "_isFastLaunch": false,
        "category": "Accelerated computing",
        "gpuNum": 8,
        "hideHardwareSpecs": false,
        "memoryGiB": 488,
        "name": "ml.p3.16xlarge",
        "vcpuNum": 64
      },
      {
        "_defaultOrder": 38,
        "_isFastLaunch": false,
        "category": "Accelerated computing",
        "gpuNum": 8,
        "hideHardwareSpecs": false,
        "memoryGiB": 768,
        "name": "ml.p3dn.24xlarge",
        "vcpuNum": 96
      },
      {
        "_defaultOrder": 39,
        "_isFastLaunch": false,
        "category": "Memory Optimized",
        "gpuNum": 0,
        "hideHardwareSpecs": false,
        "memoryGiB": 16,
        "name": "ml.r5.large",
        "vcpuNum": 2
      },
      {
        "_defaultOrder": 40,
        "_isFastLaunch": false,
        "category": "Memory Optimized",
        "gpuNum": 0,
        "hideHardwareSpecs": false,
        "memoryGiB": 32,
        "name": "ml.r5.xlarge",
        "vcpuNum": 4
      },
      {
        "_defaultOrder": 41,
        "_isFastLaunch": false,
        "category": "Memory Optimized",
        "gpuNum": 0,
        "hideHardwareSpecs": false,
        "memoryGiB": 64,
        "name": "ml.r5.2xlarge",
        "vcpuNum": 8
      },
      {
        "_defaultOrder": 42,
        "_isFastLaunch": false,
        "category": "Memory Optimized",
        "gpuNum": 0,
        "hideHardwareSpecs": false,
        "memoryGiB": 128,
        "name": "ml.r5.4xlarge",
        "vcpuNum": 16
      },
      {
        "_defaultOrder": 43,
        "_isFastLaunch": false,
        "category": "Memory Optimized",
        "gpuNum": 0,
        "hideHardwareSpecs": false,
        "memoryGiB": 256,
        "name": "ml.r5.8xlarge",
        "vcpuNum": 32
      },
      {
        "_defaultOrder": 44,
        "_isFastLaunch": false,
        "category": "Memory Optimized",
        "gpuNum": 0,
        "hideHardwareSpecs": false,
        "memoryGiB": 384,
        "name": "ml.r5.12xlarge",
        "vcpuNum": 48
      },
      {
        "_defaultOrder": 45,
        "_isFastLaunch": false,
        "category": "Memory Optimized",
        "gpuNum": 0,
        "hideHardwareSpecs": false,
        "memoryGiB": 512,
        "name": "ml.r5.16xlarge",
        "vcpuNum": 64
      },
      {
        "_defaultOrder": 46,
        "_isFastLaunch": false,
        "category": "Memory Optimized",
        "gpuNum": 0,
        "hideHardwareSpecs": false,
        "memoryGiB": 768,
        "name": "ml.r5.24xlarge",
        "vcpuNum": 96
      },
      {
        "_defaultOrder": 47,
        "_isFastLaunch": false,
        "category": "Accelerated computing",
        "gpuNum": 1,
        "hideHardwareSpecs": false,
        "memoryGiB": 16,
        "name": "ml.g5.xlarge",
        "vcpuNum": 4
      },
      {
        "_defaultOrder": 48,
        "_isFastLaunch": false,
        "category": "Accelerated computing",
        "gpuNum": 1,
        "hideHardwareSpecs": false,
        "memoryGiB": 32,
        "name": "ml.g5.2xlarge",
        "vcpuNum": 8
      },
      {
        "_defaultOrder": 49,
        "_isFastLaunch": false,
        "category": "Accelerated computing",
        "gpuNum": 1,
        "hideHardwareSpecs": false,
        "memoryGiB": 64,
        "name": "ml.g5.4xlarge",
        "vcpuNum": 16
      },
      {
        "_defaultOrder": 50,
        "_isFastLaunch": false,
        "category": "Accelerated computing",
        "gpuNum": 1,
        "hideHardwareSpecs": false,
        "memoryGiB": 128,
        "name": "ml.g5.8xlarge",
        "vcpuNum": 32
      },
      {
        "_defaultOrder": 51,
        "_isFastLaunch": false,
        "category": "Accelerated computing",
        "gpuNum": 1,
        "hideHardwareSpecs": false,
        "memoryGiB": 256,
        "name": "ml.g5.16xlarge",
        "vcpuNum": 64
      },
      {
        "_defaultOrder": 52,
        "_isFastLaunch": false,
        "category": "Accelerated computing",
        "gpuNum": 4,
        "hideHardwareSpecs": false,
        "memoryGiB": 192,
        "name": "ml.g5.12xlarge",
        "vcpuNum": 48
      },
      {
        "_defaultOrder": 53,
        "_isFastLaunch": false,
        "category": "Accelerated computing",
        "gpuNum": 4,
        "hideHardwareSpecs": false,
        "memoryGiB": 384,
        "name": "ml.g5.24xlarge",
        "vcpuNum": 96
      },
      {
        "_defaultOrder": 54,
        "_isFastLaunch": false,
        "category": "Accelerated computing",
        "gpuNum": 8,
        "hideHardwareSpecs": false,
        "memoryGiB": 768,
        "name": "ml.g5.48xlarge",
        "vcpuNum": 192
      },
      {
        "_defaultOrder": 55,
        "_isFastLaunch": false,
        "category": "Accelerated computing",
        "gpuNum": 8,
        "hideHardwareSpecs": false,
        "memoryGiB": 1152,
        "name": "ml.p4d.24xlarge",
        "vcpuNum": 96
      },
      {
        "_defaultOrder": 56,
        "_isFastLaunch": false,
        "category": "Accelerated computing",
        "gpuNum": 8,
        "hideHardwareSpecs": false,
        "memoryGiB": 1152,
        "name": "ml.p4de.24xlarge",
        "vcpuNum": 96
      },
      {
        "_defaultOrder": 57,
        "_isFastLaunch": false,
        "category": "Accelerated computing",
        "gpuNum": 0,
        "hideHardwareSpecs": false,
        "memoryGiB": 32,
        "name": "ml.trn1.2xlarge",
        "vcpuNum": 8
      },
      {
        "_defaultOrder": 58,
        "_isFastLaunch": false,
        "category": "Accelerated computing",
        "gpuNum": 0,
        "hideHardwareSpecs": false,
        "memoryGiB": 512,
        "name": "ml.trn1.32xlarge",
        "vcpuNum": 128
      },
      {
        "_defaultOrder": 59,
        "_isFastLaunch": false,
        "category": "Accelerated computing",
        "gpuNum": 0,
        "hideHardwareSpecs": false,
        "memoryGiB": 512,
        "name": "ml.trn1n.32xlarge",
        "vcpuNum": 128
      }
    ],
    "instance_type": "ml.t3.medium",
    "kernelspec": {
      "display_name": "Python 3 (Data Science 3.0)",
      "language": "python",
      "name": "python3__SAGEMAKER_INTERNAL__arn:aws:sagemaker:us-east-1:081325390199:image/sagemaker-data-science-310-v1"
    },
    "language_info": {
      "codemirror_mode": {
        "name": "ipython",
        "version": 3
      },
      "file_extension": ".py",
      "mimetype": "text/x-python",
      "name": "python",
      "nbconvert_exporter": "python",
      "pygments_lexer": "ipython3",
      "version": "3.10.6"
    },
    "colab": {
      "provenance": []
    }
  },
  "nbformat": 4,
  "nbformat_minor": 5
}